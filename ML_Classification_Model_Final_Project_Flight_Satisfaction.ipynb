{
  "cells": [
    {
      "cell_type": "markdown",
      "metadata": {
        "id": "-uZvb34U3P8u"
      },
      "source": [
        "#**Aviakompaniya yo'lovchilarining qoniqishi**"
      ]
    },
    {
      "cell_type": "markdown",
      "metadata": {
        "id": "kcHRf2lH359_"
      },
      "source": [
        "**DataFrame Tarkibi:**\n",
        "\n",
        "- Gender: yo'lovchilarning jinsi (ayol, erkak)\n",
        "\n",
        "- Customer Type: mijoz turi (sodiq mijoz, ishonchsiz mijoz)\n",
        "\n",
        "- Age: yo'lovchilarning haqiqiy yoshi\n",
        "\n",
        "- Type of Travel: yo'lovchilar parvozining maqsadi (shaxsiy sayohat, biznes sayohat)\n",
        "\n",
        "- Class: yo'lovchilar samolyotida sayohat klassi (Business, Eco, Eco Plus)\n",
        "\n",
        "- Flight distance: Ushbu sayohatning parvoz masofasi\n",
        "\n",
        "- Inflight wifi service: Parvoz ichidagi Wi-Fi xizmatidan qoniqish darajasi (0: Tegishli emas; 1-5)\n",
        "\n",
        "- Departure/Arrival time convenient: Ketish/Kelish vaqtining qoniqish darajasi\n",
        "\n",
        "- Ease of Online booking: Onlayn bron qilishdan qoniqish darajasi\n",
        "\n",
        "- Gate location: Darvoza joylashuvidan qoniqish darajasi\n",
        "\n",
        "- Food and drink: Oziq-ovqat va ichimlikdan qoniqish darajasi\n",
        "\n",
        "- Online boarding: Onlayn bortdan qoniqish darajasi\n",
        "\n",
        "- Seat comfort: O'rindiqning qulayligidan qoniqish darajasi\n",
        "\n",
        "- Inflight entertainment: Parvoz ichidagi o'yin-kulgidan qoniqish darajasi\n",
        "\n",
        "- On-board service: Bort xizmatidan qoniqish darajasi\n",
        "\n",
        "- Leg room service: oyoq xonasi xizmatidan qoniqish darajasi\n",
        "\n",
        "- Baggage handling: bagajni tashishdan qoniqish darajasi\n",
        "\n",
        "- Check-in service: Ro'yxatdan o'tish xizmatidan qoniqish darajasi\n",
        "\n",
        "- Inflight service: Parvoz ichidagi xizmatdan qoniqish darajasi\n",
        "\n",
        "- Cleanliness: Tozalikdan qoniqish darajasi\n",
        "\n",
        "- Departure Delay in Minutes: jo‘nash vaqtida kechikish daqiqalari\n",
        "\n",
        "- Arrival Delay in Minutes: yetib kelganda kechikish daqiqalari\n",
        "\n",
        "- Satisfaction: Aviakompaniyaning qoniqish darajasi (qoniqish, neytral yoki norozilik)"
      ]
    },
    {
      "cell_type": "markdown",
      "metadata": {
        "id": "HGeTmHAp_mb8"
      },
      "source": [
        "# Machine Learning uchun CRISP_DM Loyiha qadamlari:\n",
        "\n",
        "**1-QADAM : BIZNESNI (FAOLIYAT) O'RGANISH**\n",
        "\n",
        "    1-bosqich: Jarayonni tushunish: **Текст, выделенный полужирным шрифтом**\n",
        "\n",
        "         a. a. Buyurtmachi - \"Best Fly Uzbekistan\" MChJ.\n",
        "            Buyurtma - DataFrame Aviakompaniya yo'lovchilarining qoniqish so'rovini o'z ichiga oladi. Yo'lovchilarning qoniqishini bashorat qila olish bo'yicha Classification Model yaratish\n",
        "            Mavjud DataSet - https://www.kaggle.com/competitions/aviakompaniya/data?select=train_dataset.csv\n",
        "    \n",
        "         b. Buyurtmachi orqali suhbat:\n",
        "            Biz yaratgan Regression Model, modelimizning chiqishi boshqa kattaroq modelning kirishiga ulanadi;\n",
        "            Biz to'plagan DataSet ichidagi hozirgi qoniqish, avvalda qatnovda ishtirok etgan insonlar bo'yicha yi'g'ilgan baza hosil bo'lgan qoniqish bo'yicha;\n",
        "            Mavjud usulning ya'ni Modelimiz orqali emas, balki ekspertlar chiqargan natija aniqligi qanday? 20%\n",
        "    \n",
        "    2-bosqich: Analitik yondashuvni aniqlash:\n",
        "\n",
        "        a. Qaysi Machine Learning turini qo'llaymiz? - Supervised, chunki bizga Label qismi mavjud\n",
        "        b. Muammoning turi (Algorithm) qanday? - Classification Model\n",
        "        c. Usul? - 20 % Offline / 70 % Online\n",
        "        d. Modelimiz aniqligini qanday aniqlaymiz? Classification Report hamda Accuracy Score"
      ]
    },
    {
      "cell_type": "markdown",
      "metadata": {
        "id": "oFDuw_sdBfUU"
      },
      "source": [
        "**2-QADAM : MA'LUMOTLARNI O'RGANISH (Exploring Data)**\n",
        "\n",
        "    3-bosqich: Ma'lumotlarga qo'yilgan talablar\n",
        "\n",
        "    4-bosqich: Ma'lumotlarni yig'ish\n",
        "    \n",
        "    5-bosqich: Ma'lumotlarni talqin qilish"
      ]
    },
    {
      "cell_type": "code",
      "execution_count": 15,
      "metadata": {
        "id": "u1tegaVIc0FH"
      },
      "outputs": [],
      "source": [
        "import pandas as pd # data cleaning\n",
        "import numpy as np # linear algebra\n",
        "import seaborn as sns # data visualization\n",
        "import matplotlib.pyplot as plt # data visualization\n",
        "%matplotlib inline\n",
        "\n",
        "import sklearn # sci-kit learn for Machine Learning Models\n",
        "\n",
        "# kerakli kutubxonalar"
      ]
    },
    {
      "cell_type": "code",
      "execution_count": 16,
      "metadata": {
        "colab": {
          "base_uri": "https://localhost:8080/",
          "height": 359
        },
        "id": "FpFdjBAtc0FL",
        "outputId": "141e7a46-5e09-4d45-894f-bc04f0bc35f8"
      },
      "outputs": [],
      "source": [
        "df_train = pd.read_csv(r\"D:\\Assalom alaikum\\Lessons for JOB\\Data Science\\PROJECTS\\Final ML Projects Course mohirdev\\train_dataset.csv\")\n",
        "df_test= pd.read_csv(r\"D:\\Assalom alaikum\\Lessons for JOB\\Data Science\\PROJECTS\\Final ML Projects Course mohirdev\\test_dataset.csv\")\n",
        "\n",
        "# kerakli dataframe'ni yuklash"
      ]
    },
    {
      "cell_type": "code",
      "execution_count": 17,
      "metadata": {
        "colab": {
          "base_uri": "https://localhost:8080/",
          "height": 178
        },
        "id": "KXzyfjzCc0FN",
        "outputId": "a3b72b7b-64c3-4647-a314-fdce47d93423"
      },
      "outputs": [
        {
          "data": {
            "text/plain": [
              "satisfaction\n",
              "0    5000\n",
              "1    5000\n",
              "Name: count, dtype: int64"
            ]
          },
          "execution_count": 17,
          "metadata": {},
          "output_type": "execute_result"
        }
      ],
      "source": [
        "df_train[\"satisfaction\"].value_counts()\n",
        "\n",
        "# eng muhim Column qiymatlarini: 0 - unsatisfaction; 1 - satisfaction"
      ]
    },
    {
      "cell_type": "code",
      "execution_count": 18,
      "metadata": {
        "colab": {
          "base_uri": "https://localhost:8080/"
        },
        "id": "wJDC-h1Zc0FO",
        "outputId": "a1391e69-a55d-410d-957e-19582ea34ece"
      },
      "outputs": [
        {
          "data": {
            "text/plain": [
              "(10000, 24)"
            ]
          },
          "execution_count": 18,
          "metadata": {},
          "output_type": "execute_result"
        }
      ],
      "source": [
        "df_train.shape\n",
        "\n",
        "# train_dataset o'lchami: 10000 - Rows; 23 - Columns"
      ]
    },
    {
      "cell_type": "code",
      "execution_count": 19,
      "metadata": {},
      "outputs": [
        {
          "data": {
            "text/plain": [
              "(4000, 23)"
            ]
          },
          "execution_count": 19,
          "metadata": {},
          "output_type": "execute_result"
        }
      ],
      "source": [
        "df_test.shape\n",
        "\n",
        "# test_dataset o'lchami: 10000 - Rows; 23 - Columns"
      ]
    },
    {
      "cell_type": "code",
      "execution_count": 20,
      "metadata": {
        "colab": {
          "base_uri": "https://localhost:8080/",
          "height": 805
        },
        "id": "iNmudZ8oc0FP",
        "outputId": "899c8122-de17-4f82-de50-e7e5e12eb7ee"
      },
      "outputs": [
        {
          "data": {
            "text/plain": [
              "id                                    0\n",
              "Gender                                0\n",
              "Customer Type                         0\n",
              "Age                                   0\n",
              "Type of Travel                        0\n",
              "Class                                 0\n",
              "Flight Distance                       0\n",
              "Inflight wifi service                 0\n",
              "Departure/Arrival time convenient     0\n",
              "Ease of Online booking                0\n",
              "Gate location                         0\n",
              "Food and drink                        0\n",
              "Online boarding                       0\n",
              "Seat comfort                          0\n",
              "Inflight entertainment                0\n",
              "On-board service                      0\n",
              "Leg room service                      0\n",
              "Baggage handling                      0\n",
              "Checkin service                       0\n",
              "Inflight service                      0\n",
              "Cleanliness                           0\n",
              "Departure Delay in Minutes            0\n",
              "Arrival Delay in Minutes             28\n",
              "satisfaction                          0\n",
              "dtype: int64"
            ]
          },
          "execution_count": 20,
          "metadata": {},
          "output_type": "execute_result"
        }
      ],
      "source": [
        "df_train.isnull().sum()\n",
        "\n",
        "# faqat \"Arrival Delay in Minutes\" ustunida 28 null qiymat mavjud"
      ]
    },
    {
      "cell_type": "code",
      "execution_count": 21,
      "metadata": {},
      "outputs": [
        {
          "data": {
            "text/plain": [
              "id                                    0\n",
              "Gender                                0\n",
              "Customer Type                         0\n",
              "Age                                   0\n",
              "Type of Travel                        0\n",
              "Class                                 0\n",
              "Flight Distance                       0\n",
              "Inflight wifi service                 0\n",
              "Departure/Arrival time convenient     0\n",
              "Ease of Online booking                0\n",
              "Gate location                         0\n",
              "Food and drink                        0\n",
              "Online boarding                       0\n",
              "Seat comfort                          0\n",
              "Inflight entertainment                0\n",
              "On-board service                      0\n",
              "Leg room service                      0\n",
              "Baggage handling                      0\n",
              "Checkin service                       0\n",
              "Inflight service                      0\n",
              "Cleanliness                           0\n",
              "Departure Delay in Minutes            0\n",
              "Arrival Delay in Minutes             19\n",
              "dtype: int64"
            ]
          },
          "execution_count": 21,
          "metadata": {},
          "output_type": "execute_result"
        }
      ],
      "source": [
        "df_test.isnull().sum()\n",
        "\n",
        "# faqat \"Arrival Delay in Minutes\" ustunida 19 null qiymat mavjud"
      ]
    },
    {
      "cell_type": "code",
      "execution_count": 22,
      "metadata": {
        "colab": {
          "base_uri": "https://localhost:8080/"
        },
        "id": "QUaw09Bfc0FP",
        "outputId": "c77c33c5-814b-494c-a2ad-92aa3bf948d8"
      },
      "outputs": [],
      "source": [
        "df_train[\"Arrival Delay in Minutes\"] = df_train[\"Arrival Delay in Minutes\"].fillna(value = df_train[\"Arrival Delay in Minutes\"].mean())\n",
        "\n",
        "# mean metodi orqali null qiymatlar to'ldirildi"
      ]
    },
    {
      "cell_type": "code",
      "execution_count": 23,
      "metadata": {},
      "outputs": [],
      "source": [
        "df_test[\"Arrival Delay in Minutes\"] = df_test[\"Arrival Delay in Minutes\"].fillna(value = df_test[\"Arrival Delay in Minutes\"].mean())\n",
        "\n",
        "# mean metodi orqali null qiymatlar to'ldirildi"
      ]
    },
    {
      "cell_type": "code",
      "execution_count": 24,
      "metadata": {
        "colab": {
          "base_uri": "https://localhost:8080/",
          "height": 805
        },
        "id": "cpWVIrwic0FQ",
        "outputId": "5c86d255-3ab3-4d7d-83ad-564b125c4238"
      },
      "outputs": [
        {
          "data": {
            "text/plain": [
              "id                                   0\n",
              "Gender                               0\n",
              "Customer Type                        0\n",
              "Age                                  0\n",
              "Type of Travel                       0\n",
              "Class                                0\n",
              "Flight Distance                      0\n",
              "Inflight wifi service                0\n",
              "Departure/Arrival time convenient    0\n",
              "Ease of Online booking               0\n",
              "Gate location                        0\n",
              "Food and drink                       0\n",
              "Online boarding                      0\n",
              "Seat comfort                         0\n",
              "Inflight entertainment               0\n",
              "On-board service                     0\n",
              "Leg room service                     0\n",
              "Baggage handling                     0\n",
              "Checkin service                      0\n",
              "Inflight service                     0\n",
              "Cleanliness                          0\n",
              "Departure Delay in Minutes           0\n",
              "Arrival Delay in Minutes             0\n",
              "satisfaction                         0\n",
              "dtype: int64"
            ]
          },
          "execution_count": 24,
          "metadata": {},
          "output_type": "execute_result"
        }
      ],
      "source": [
        "df_train.isnull().sum()\n",
        "\n",
        "# yana null qiymatlar tekshirib olindi"
      ]
    },
    {
      "cell_type": "code",
      "execution_count": 25,
      "metadata": {},
      "outputs": [
        {
          "data": {
            "text/plain": [
              "id                                   0\n",
              "Gender                               0\n",
              "Customer Type                        0\n",
              "Age                                  0\n",
              "Type of Travel                       0\n",
              "Class                                0\n",
              "Flight Distance                      0\n",
              "Inflight wifi service                0\n",
              "Departure/Arrival time convenient    0\n",
              "Ease of Online booking               0\n",
              "Gate location                        0\n",
              "Food and drink                       0\n",
              "Online boarding                      0\n",
              "Seat comfort                         0\n",
              "Inflight entertainment               0\n",
              "On-board service                     0\n",
              "Leg room service                     0\n",
              "Baggage handling                     0\n",
              "Checkin service                      0\n",
              "Inflight service                     0\n",
              "Cleanliness                          0\n",
              "Departure Delay in Minutes           0\n",
              "Arrival Delay in Minutes             0\n",
              "dtype: int64"
            ]
          },
          "execution_count": 25,
          "metadata": {},
          "output_type": "execute_result"
        }
      ],
      "source": [
        "df_test.isnull().sum()\n",
        "\n",
        "# yana null qiymatlar tekshirib olindi"
      ]
    },
    {
      "cell_type": "code",
      "execution_count": 26,
      "metadata": {
        "colab": {
          "base_uri": "https://localhost:8080/"
        },
        "id": "g1Dksr1Lc0FR",
        "outputId": "dc0451be-12ce-4959-8c92-b1090823492b"
      },
      "outputs": [
        {
          "data": {
            "text/plain": [
              "Index(['id', 'Gender', 'Customer Type', 'Age', 'Type of Travel', 'Class',\n",
              "       'Flight Distance', 'Inflight wifi service',\n",
              "       'Departure/Arrival time convenient', 'Ease of Online booking',\n",
              "       'Gate location', 'Food and drink', 'Online boarding', 'Seat comfort',\n",
              "       'Inflight entertainment', 'On-board service', 'Leg room service',\n",
              "       'Baggage handling', 'Checkin service', 'Inflight service',\n",
              "       'Cleanliness', 'Departure Delay in Minutes', 'Arrival Delay in Minutes',\n",
              "       'satisfaction'],\n",
              "      dtype='object')"
            ]
          },
          "execution_count": 26,
          "metadata": {},
          "output_type": "execute_result"
        }
      ],
      "source": [
        "df_train.columns\n",
        "\n",
        "# ustunlar nomlari aniqlashtirildi"
      ]
    },
    {
      "cell_type": "code",
      "execution_count": 27,
      "metadata": {
        "colab": {
          "base_uri": "https://localhost:8080/"
        },
        "id": "52GIQeSic0FS",
        "outputId": "dbd2ead1-1dd8-42dc-e8c9-5d9e47f87d06"
      },
      "outputs": [
        {
          "name": "stdout",
          "output_type": "stream",
          "text": [
            "<class 'pandas.core.frame.DataFrame'>\n",
            "RangeIndex: 10000 entries, 0 to 9999\n",
            "Data columns (total 24 columns):\n",
            " #   Column                             Non-Null Count  Dtype  \n",
            "---  ------                             --------------  -----  \n",
            " 0   id                                 10000 non-null  int64  \n",
            " 1   Gender                             10000 non-null  object \n",
            " 2   Customer Type                      10000 non-null  object \n",
            " 3   Age                                10000 non-null  int64  \n",
            " 4   Type of Travel                     10000 non-null  object \n",
            " 5   Class                              10000 non-null  object \n",
            " 6   Flight Distance                    10000 non-null  int64  \n",
            " 7   Inflight wifi service              10000 non-null  int64  \n",
            " 8   Departure/Arrival time convenient  10000 non-null  int64  \n",
            " 9   Ease of Online booking             10000 non-null  int64  \n",
            " 10  Gate location                      10000 non-null  int64  \n",
            " 11  Food and drink                     10000 non-null  int64  \n",
            " 12  Online boarding                    10000 non-null  int64  \n",
            " 13  Seat comfort                       10000 non-null  int64  \n",
            " 14  Inflight entertainment             10000 non-null  int64  \n",
            " 15  On-board service                   10000 non-null  int64  \n",
            " 16  Leg room service                   10000 non-null  int64  \n",
            " 17  Baggage handling                   10000 non-null  int64  \n",
            " 18  Checkin service                    10000 non-null  int64  \n",
            " 19  Inflight service                   10000 non-null  int64  \n",
            " 20  Cleanliness                        10000 non-null  int64  \n",
            " 21  Departure Delay in Minutes         10000 non-null  int64  \n",
            " 22  Arrival Delay in Minutes           10000 non-null  float64\n",
            " 23  satisfaction                       10000 non-null  int64  \n",
            "dtypes: float64(1), int64(19), object(4)\n",
            "memory usage: 1.8+ MB\n"
          ]
        }
      ],
      "source": [
        "df_train.info()\n",
        "\n",
        "# data type aniqlash va Categorical types ustunlar aniqlandi"
      ]
    },
    {
      "cell_type": "code",
      "execution_count": 28,
      "metadata": {},
      "outputs": [
        {
          "name": "stdout",
          "output_type": "stream",
          "text": [
            "<class 'pandas.core.frame.DataFrame'>\n",
            "RangeIndex: 4000 entries, 0 to 3999\n",
            "Data columns (total 23 columns):\n",
            " #   Column                             Non-Null Count  Dtype  \n",
            "---  ------                             --------------  -----  \n",
            " 0   id                                 4000 non-null   int64  \n",
            " 1   Gender                             4000 non-null   object \n",
            " 2   Customer Type                      4000 non-null   object \n",
            " 3   Age                                4000 non-null   int64  \n",
            " 4   Type of Travel                     4000 non-null   object \n",
            " 5   Class                              4000 non-null   object \n",
            " 6   Flight Distance                    4000 non-null   int64  \n",
            " 7   Inflight wifi service              4000 non-null   int64  \n",
            " 8   Departure/Arrival time convenient  4000 non-null   int64  \n",
            " 9   Ease of Online booking             4000 non-null   int64  \n",
            " 10  Gate location                      4000 non-null   int64  \n",
            " 11  Food and drink                     4000 non-null   int64  \n",
            " 12  Online boarding                    4000 non-null   int64  \n",
            " 13  Seat comfort                       4000 non-null   int64  \n",
            " 14  Inflight entertainment             4000 non-null   int64  \n",
            " 15  On-board service                   4000 non-null   int64  \n",
            " 16  Leg room service                   4000 non-null   int64  \n",
            " 17  Baggage handling                   4000 non-null   int64  \n",
            " 18  Checkin service                    4000 non-null   int64  \n",
            " 19  Inflight service                   4000 non-null   int64  \n",
            " 20  Cleanliness                        4000 non-null   int64  \n",
            " 21  Departure Delay in Minutes         4000 non-null   int64  \n",
            " 22  Arrival Delay in Minutes           4000 non-null   float64\n",
            "dtypes: float64(1), int64(18), object(4)\n",
            "memory usage: 718.9+ KB\n"
          ]
        }
      ],
      "source": [
        "df_test.info()\n",
        "\n",
        "# data type aniqlash va Categorical types ustunlar aniqlandi"
      ]
    },
    {
      "cell_type": "code",
      "execution_count": 29,
      "metadata": {
        "colab": {
          "base_uri": "https://localhost:8080/",
          "height": 178
        },
        "id": "k5ZQFdpAc0FS",
        "outputId": "436095e7-499b-4c8e-ce8c-0047700fca34"
      },
      "outputs": [
        {
          "data": {
            "text/plain": [
              "Gender\n",
              "Female    5169\n",
              "Male      4831\n",
              "Name: count, dtype: int64"
            ]
          },
          "execution_count": 29,
          "metadata": {},
          "output_type": "execute_result"
        }
      ],
      "source": [
        "df_train[\"Gender\"].value_counts()"
      ]
    },
    {
      "cell_type": "code",
      "execution_count": 30,
      "metadata": {
        "id": "qMoTd1gMc0FT"
      },
      "outputs": [
        {
          "name": "stderr",
          "output_type": "stream",
          "text": [
            "C:\\Users\\Bismilloh\\AppData\\Local\\Temp\\ipykernel_16116\\2797831992.py:1: FutureWarning: Downcasting behavior in `replace` is deprecated and will be removed in a future version. To retain the old behavior, explicitly call `result.infer_objects(copy=False)`. To opt-in to the future behavior, set `pd.set_option('future.no_silent_downcasting', True)`\n",
            "  df_train[\"Gender\"] = df_train[\"Gender\"].replace({\n"
          ]
        }
      ],
      "source": [
        "df_train[\"Gender\"] = df_train[\"Gender\"].replace({\n",
        "    \"Male\" : 1,\n",
        "    \"Female\" : 0\n",
        "})"
      ]
    },
    {
      "cell_type": "code",
      "execution_count": 31,
      "metadata": {
        "colab": {
          "base_uri": "https://localhost:8080/",
          "height": 178
        },
        "id": "2DgrRwq2c0FT",
        "outputId": "6f914355-be81-43db-ded0-f1d1f063a697"
      },
      "outputs": [
        {
          "data": {
            "text/plain": [
              "Customer Type\n",
              "Loyal Customer       8307\n",
              "disloyal Customer    1693\n",
              "Name: count, dtype: int64"
            ]
          },
          "execution_count": 31,
          "metadata": {},
          "output_type": "execute_result"
        }
      ],
      "source": [
        "df_train[\"Customer Type\"].value_counts()"
      ]
    },
    {
      "cell_type": "code",
      "execution_count": 32,
      "metadata": {
        "id": "qfHwV88Ic0FU"
      },
      "outputs": [
        {
          "name": "stderr",
          "output_type": "stream",
          "text": [
            "C:\\Users\\Bismilloh\\AppData\\Local\\Temp\\ipykernel_16116\\4100091422.py:1: FutureWarning: Downcasting behavior in `replace` is deprecated and will be removed in a future version. To retain the old behavior, explicitly call `result.infer_objects(copy=False)`. To opt-in to the future behavior, set `pd.set_option('future.no_silent_downcasting', True)`\n",
            "  df_train[\"Customer Type\"] = df_train[\"Customer Type\"].replace({\n"
          ]
        }
      ],
      "source": [
        "df_train[\"Customer Type\"] = df_train[\"Customer Type\"].replace({\n",
        "    \"Loyal Customer\" : 1,\n",
        "    \"disloyal Customer\" : 0\n",
        "})"
      ]
    },
    {
      "cell_type": "code",
      "execution_count": 33,
      "metadata": {
        "colab": {
          "base_uri": "https://localhost:8080/",
          "height": 178
        },
        "id": "mjH-rP6Wc0FU",
        "outputId": "fc8ba9e9-f347-4b45-f64c-4d0d84a68f48"
      },
      "outputs": [
        {
          "data": {
            "text/plain": [
              "Type of Travel\n",
              "Business travel    7079\n",
              "Personal Travel    2921\n",
              "Name: count, dtype: int64"
            ]
          },
          "execution_count": 33,
          "metadata": {},
          "output_type": "execute_result"
        }
      ],
      "source": [
        "df_train[\"Type of Travel\"].value_counts()"
      ]
    },
    {
      "cell_type": "code",
      "execution_count": 34,
      "metadata": {
        "id": "mAi_NvPkc0FV"
      },
      "outputs": [
        {
          "name": "stderr",
          "output_type": "stream",
          "text": [
            "C:\\Users\\Bismilloh\\AppData\\Local\\Temp\\ipykernel_16116\\2350796989.py:1: FutureWarning: Downcasting behavior in `replace` is deprecated and will be removed in a future version. To retain the old behavior, explicitly call `result.infer_objects(copy=False)`. To opt-in to the future behavior, set `pd.set_option('future.no_silent_downcasting', True)`\n",
            "  df_train[\"Type of Travel\"] = df_train[\"Type of Travel\"].replace({\n"
          ]
        }
      ],
      "source": [
        "df_train[\"Type of Travel\"] = df_train[\"Type of Travel\"].replace({\n",
        "    \"Business travel\" : 1,\n",
        "    \"Personal Travel\" : 0\n",
        "})"
      ]
    },
    {
      "cell_type": "code",
      "execution_count": 35,
      "metadata": {
        "colab": {
          "base_uri": "https://localhost:8080/",
          "height": 209
        },
        "id": "e0r0UyqFc0FV",
        "outputId": "e29dd9a1-b289-43ad-e940-278eebc264da"
      },
      "outputs": [
        {
          "data": {
            "text/plain": [
              "Class\n",
              "Business    5048\n",
              "Eco         4251\n",
              "Eco Plus     701\n",
              "Name: count, dtype: int64"
            ]
          },
          "execution_count": 35,
          "metadata": {},
          "output_type": "execute_result"
        }
      ],
      "source": [
        "df_train[\"Class\"].value_counts()"
      ]
    },
    {
      "cell_type": "code",
      "execution_count": 36,
      "metadata": {
        "id": "HSKT0VYKc0FV"
      },
      "outputs": [
        {
          "name": "stderr",
          "output_type": "stream",
          "text": [
            "C:\\Users\\Bismilloh\\AppData\\Local\\Temp\\ipykernel_16116\\2841006799.py:1: FutureWarning: Downcasting behavior in `replace` is deprecated and will be removed in a future version. To retain the old behavior, explicitly call `result.infer_objects(copy=False)`. To opt-in to the future behavior, set `pd.set_option('future.no_silent_downcasting', True)`\n",
            "  df_train[\"Class\"] = df_train[\"Class\"].replace({\n"
          ]
        }
      ],
      "source": [
        "df_train[\"Class\"] = df_train[\"Class\"].replace({\n",
        "    \"Business\" : 0,\n",
        "    \"Eco\" : 1,\n",
        "    \"Eco Plus\" : 2\n",
        "})"
      ]
    },
    {
      "cell_type": "code",
      "execution_count": 37,
      "metadata": {},
      "outputs": [
        {
          "data": {
            "text/html": [
              "<div>\n",
              "<style scoped>\n",
              "    .dataframe tbody tr th:only-of-type {\n",
              "        vertical-align: middle;\n",
              "    }\n",
              "\n",
              "    .dataframe tbody tr th {\n",
              "        vertical-align: top;\n",
              "    }\n",
              "\n",
              "    .dataframe thead th {\n",
              "        text-align: right;\n",
              "    }\n",
              "</style>\n",
              "<table border=\"1\" class=\"dataframe\">\n",
              "  <thead>\n",
              "    <tr style=\"text-align: right;\">\n",
              "      <th></th>\n",
              "      <th>id</th>\n",
              "      <th>Gender</th>\n",
              "      <th>Customer Type</th>\n",
              "      <th>Age</th>\n",
              "      <th>Type of Travel</th>\n",
              "      <th>Class</th>\n",
              "      <th>Flight Distance</th>\n",
              "      <th>Inflight wifi service</th>\n",
              "      <th>Departure/Arrival time convenient</th>\n",
              "      <th>Ease of Online booking</th>\n",
              "      <th>...</th>\n",
              "      <th>Seat comfort</th>\n",
              "      <th>Inflight entertainment</th>\n",
              "      <th>On-board service</th>\n",
              "      <th>Leg room service</th>\n",
              "      <th>Baggage handling</th>\n",
              "      <th>Checkin service</th>\n",
              "      <th>Inflight service</th>\n",
              "      <th>Cleanliness</th>\n",
              "      <th>Departure Delay in Minutes</th>\n",
              "      <th>Arrival Delay in Minutes</th>\n",
              "    </tr>\n",
              "  </thead>\n",
              "  <tbody>\n",
              "    <tr>\n",
              "      <th>0</th>\n",
              "      <td>1</td>\n",
              "      <td>0.0</td>\n",
              "      <td>0.0</td>\n",
              "      <td>25</td>\n",
              "      <td>1.0</td>\n",
              "      <td>1.0</td>\n",
              "      <td>2704</td>\n",
              "      <td>2</td>\n",
              "      <td>2</td>\n",
              "      <td>2</td>\n",
              "      <td>...</td>\n",
              "      <td>5</td>\n",
              "      <td>2</td>\n",
              "      <td>4</td>\n",
              "      <td>4</td>\n",
              "      <td>3</td>\n",
              "      <td>5</td>\n",
              "      <td>1</td>\n",
              "      <td>5</td>\n",
              "      <td>152</td>\n",
              "      <td>191.0</td>\n",
              "    </tr>\n",
              "    <tr>\n",
              "      <th>1</th>\n",
              "      <td>2</td>\n",
              "      <td>0.0</td>\n",
              "      <td>0.0</td>\n",
              "      <td>49</td>\n",
              "      <td>0.0</td>\n",
              "      <td>0.0</td>\n",
              "      <td>1623</td>\n",
              "      <td>1</td>\n",
              "      <td>1</td>\n",
              "      <td>1</td>\n",
              "      <td>...</td>\n",
              "      <td>4</td>\n",
              "      <td>2</td>\n",
              "      <td>2</td>\n",
              "      <td>2</td>\n",
              "      <td>2</td>\n",
              "      <td>4</td>\n",
              "      <td>2</td>\n",
              "      <td>3</td>\n",
              "      <td>60</td>\n",
              "      <td>52.0</td>\n",
              "    </tr>\n",
              "    <tr>\n",
              "      <th>2</th>\n",
              "      <td>3</td>\n",
              "      <td>1.0</td>\n",
              "      <td>0.0</td>\n",
              "      <td>51</td>\n",
              "      <td>0.0</td>\n",
              "      <td>0.0</td>\n",
              "      <td>338</td>\n",
              "      <td>4</td>\n",
              "      <td>4</td>\n",
              "      <td>4</td>\n",
              "      <td>...</td>\n",
              "      <td>5</td>\n",
              "      <td>5</td>\n",
              "      <td>5</td>\n",
              "      <td>5</td>\n",
              "      <td>5</td>\n",
              "      <td>4</td>\n",
              "      <td>5</td>\n",
              "      <td>4</td>\n",
              "      <td>0</td>\n",
              "      <td>0.0</td>\n",
              "    </tr>\n",
              "    <tr>\n",
              "      <th>3</th>\n",
              "      <td>4</td>\n",
              "      <td>1.0</td>\n",
              "      <td>0.0</td>\n",
              "      <td>34</td>\n",
              "      <td>0.0</td>\n",
              "      <td>2.0</td>\n",
              "      <td>95</td>\n",
              "      <td>0</td>\n",
              "      <td>0</td>\n",
              "      <td>0</td>\n",
              "      <td>...</td>\n",
              "      <td>1</td>\n",
              "      <td>5</td>\n",
              "      <td>4</td>\n",
              "      <td>4</td>\n",
              "      <td>1</td>\n",
              "      <td>3</td>\n",
              "      <td>3</td>\n",
              "      <td>5</td>\n",
              "      <td>0</td>\n",
              "      <td>0.0</td>\n",
              "    </tr>\n",
              "    <tr>\n",
              "      <th>4</th>\n",
              "      <td>5</td>\n",
              "      <td>1.0</td>\n",
              "      <td>0.0</td>\n",
              "      <td>34</td>\n",
              "      <td>1.0</td>\n",
              "      <td>1.0</td>\n",
              "      <td>602</td>\n",
              "      <td>4</td>\n",
              "      <td>4</td>\n",
              "      <td>4</td>\n",
              "      <td>...</td>\n",
              "      <td>5</td>\n",
              "      <td>5</td>\n",
              "      <td>4</td>\n",
              "      <td>5</td>\n",
              "      <td>4</td>\n",
              "      <td>5</td>\n",
              "      <td>5</td>\n",
              "      <td>5</td>\n",
              "      <td>130</td>\n",
              "      <td>140.0</td>\n",
              "    </tr>\n",
              "  </tbody>\n",
              "</table>\n",
              "<p>5 rows × 23 columns</p>\n",
              "</div>"
            ],
            "text/plain": [
              "   id  Gender  Customer Type  Age  Type of Travel  Class  Flight Distance  \\\n",
              "0   1     0.0            0.0   25             1.0    1.0             2704   \n",
              "1   2     0.0            0.0   49             0.0    0.0             1623   \n",
              "2   3     1.0            0.0   51             0.0    0.0              338   \n",
              "3   4     1.0            0.0   34             0.0    2.0               95   \n",
              "4   5     1.0            0.0   34             1.0    1.0              602   \n",
              "\n",
              "   Inflight wifi service  Departure/Arrival time convenient  \\\n",
              "0                      2                                  2   \n",
              "1                      1                                  1   \n",
              "2                      4                                  4   \n",
              "3                      0                                  0   \n",
              "4                      4                                  4   \n",
              "\n",
              "   Ease of Online booking  ...  Seat comfort  Inflight entertainment  \\\n",
              "0                       2  ...             5                       2   \n",
              "1                       1  ...             4                       2   \n",
              "2                       4  ...             5                       5   \n",
              "3                       0  ...             1                       5   \n",
              "4                       4  ...             5                       5   \n",
              "\n",
              "   On-board service  Leg room service  Baggage handling  Checkin service  \\\n",
              "0                 4                 4                 3                5   \n",
              "1                 2                 2                 2                4   \n",
              "2                 5                 5                 5                4   \n",
              "3                 4                 4                 1                3   \n",
              "4                 4                 5                 4                5   \n",
              "\n",
              "   Inflight service  Cleanliness  Departure Delay in Minutes  \\\n",
              "0                 1            5                         152   \n",
              "1                 2            3                          60   \n",
              "2                 5            4                           0   \n",
              "3                 3            5                           0   \n",
              "4                 5            5                         130   \n",
              "\n",
              "   Arrival Delay in Minutes  \n",
              "0                     191.0  \n",
              "1                      52.0  \n",
              "2                       0.0  \n",
              "3                       0.0  \n",
              "4                     140.0  \n",
              "\n",
              "[5 rows x 23 columns]"
            ]
          },
          "execution_count": 37,
          "metadata": {},
          "output_type": "execute_result"
        }
      ],
      "source": [
        "from sklearn.preprocessing import OrdinalEncoder\n",
        "\n",
        "ordin_encoded = OrdinalEncoder()\n",
        "\n",
        "df_test[['Gender','Customer Type','Type of Travel','Class']]  = ordin_encoded.fit_transform(df_test[['Gender','Customer Type','Type of Travel','Class']])\n",
        "df_test.head()"
      ]
    },
    {
      "cell_type": "code",
      "execution_count": 38,
      "metadata": {
        "colab": {
          "base_uri": "https://localhost:8080/"
        },
        "id": "OzdnyAmkc0FW",
        "outputId": "bfd9dfaa-0396-4fb8-9f3c-335721add19a"
      },
      "outputs": [
        {
          "name": "stdout",
          "output_type": "stream",
          "text": [
            "<class 'pandas.core.frame.DataFrame'>\n",
            "RangeIndex: 4000 entries, 0 to 3999\n",
            "Data columns (total 23 columns):\n",
            " #   Column                             Non-Null Count  Dtype  \n",
            "---  ------                             --------------  -----  \n",
            " 0   id                                 4000 non-null   int64  \n",
            " 1   Gender                             4000 non-null   float64\n",
            " 2   Customer Type                      4000 non-null   float64\n",
            " 3   Age                                4000 non-null   int64  \n",
            " 4   Type of Travel                     4000 non-null   float64\n",
            " 5   Class                              4000 non-null   float64\n",
            " 6   Flight Distance                    4000 non-null   int64  \n",
            " 7   Inflight wifi service              4000 non-null   int64  \n",
            " 8   Departure/Arrival time convenient  4000 non-null   int64  \n",
            " 9   Ease of Online booking             4000 non-null   int64  \n",
            " 10  Gate location                      4000 non-null   int64  \n",
            " 11  Food and drink                     4000 non-null   int64  \n",
            " 12  Online boarding                    4000 non-null   int64  \n",
            " 13  Seat comfort                       4000 non-null   int64  \n",
            " 14  Inflight entertainment             4000 non-null   int64  \n",
            " 15  On-board service                   4000 non-null   int64  \n",
            " 16  Leg room service                   4000 non-null   int64  \n",
            " 17  Baggage handling                   4000 non-null   int64  \n",
            " 18  Checkin service                    4000 non-null   int64  \n",
            " 19  Inflight service                   4000 non-null   int64  \n",
            " 20  Cleanliness                        4000 non-null   int64  \n",
            " 21  Departure Delay in Minutes         4000 non-null   int64  \n",
            " 22  Arrival Delay in Minutes           4000 non-null   float64\n",
            "dtypes: float64(5), int64(18)\n",
            "memory usage: 718.9 KB\n"
          ]
        }
      ],
      "source": [
        "df_test.info()\n",
        "\n",
        "# yuqoridagi o'zgartirishlar natijasida yana Data types tekshirildi"
      ]
    },
    {
      "cell_type": "code",
      "execution_count": 39,
      "metadata": {
        "colab": {
          "base_uri": "https://localhost:8080/",
          "height": 340
        },
        "id": "u93qtV487Yo0",
        "outputId": "32568cc0-8344-428c-9f7f-ecdac2a457e3"
      },
      "outputs": [
        {
          "data": {
            "text/html": [
              "<div>\n",
              "<style scoped>\n",
              "    .dataframe tbody tr th:only-of-type {\n",
              "        vertical-align: middle;\n",
              "    }\n",
              "\n",
              "    .dataframe tbody tr th {\n",
              "        vertical-align: top;\n",
              "    }\n",
              "\n",
              "    .dataframe thead th {\n",
              "        text-align: right;\n",
              "    }\n",
              "</style>\n",
              "<table border=\"1\" class=\"dataframe\">\n",
              "  <thead>\n",
              "    <tr style=\"text-align: right;\">\n",
              "      <th></th>\n",
              "      <th>id</th>\n",
              "      <th>Gender</th>\n",
              "      <th>Customer Type</th>\n",
              "      <th>Age</th>\n",
              "      <th>Type of Travel</th>\n",
              "      <th>Class</th>\n",
              "      <th>Flight Distance</th>\n",
              "      <th>Inflight wifi service</th>\n",
              "      <th>Departure/Arrival time convenient</th>\n",
              "      <th>Ease of Online booking</th>\n",
              "      <th>...</th>\n",
              "      <th>Inflight entertainment</th>\n",
              "      <th>On-board service</th>\n",
              "      <th>Leg room service</th>\n",
              "      <th>Baggage handling</th>\n",
              "      <th>Checkin service</th>\n",
              "      <th>Inflight service</th>\n",
              "      <th>Cleanliness</th>\n",
              "      <th>Departure Delay in Minutes</th>\n",
              "      <th>Arrival Delay in Minutes</th>\n",
              "      <th>satisfaction</th>\n",
              "    </tr>\n",
              "  </thead>\n",
              "  <tbody>\n",
              "    <tr>\n",
              "      <th>count</th>\n",
              "      <td>10000.00000</td>\n",
              "      <td>10000.000000</td>\n",
              "      <td>10000.000000</td>\n",
              "      <td>10000.000000</td>\n",
              "      <td>10000.000000</td>\n",
              "      <td>10000.000000</td>\n",
              "      <td>10000.000000</td>\n",
              "      <td>10000.000000</td>\n",
              "      <td>10000.000000</td>\n",
              "      <td>10000.000000</td>\n",
              "      <td>...</td>\n",
              "      <td>10000.000000</td>\n",
              "      <td>10000.000000</td>\n",
              "      <td>10000.000000</td>\n",
              "      <td>10000.000000</td>\n",
              "      <td>10000.000000</td>\n",
              "      <td>10000.000000</td>\n",
              "      <td>10000.000000</td>\n",
              "      <td>10000.000000</td>\n",
              "      <td>10000.000000</td>\n",
              "      <td>10000.000000</td>\n",
              "    </tr>\n",
              "    <tr>\n",
              "      <th>mean</th>\n",
              "      <td>5000.50000</td>\n",
              "      <td>0.483100</td>\n",
              "      <td>0.830700</td>\n",
              "      <td>39.375100</td>\n",
              "      <td>0.707900</td>\n",
              "      <td>0.565300</td>\n",
              "      <td>1229.556200</td>\n",
              "      <td>2.780200</td>\n",
              "      <td>3.065100</td>\n",
              "      <td>2.797800</td>\n",
              "      <td>...</td>\n",
              "      <td>3.402900</td>\n",
              "      <td>3.454100</td>\n",
              "      <td>3.415700</td>\n",
              "      <td>3.676200</td>\n",
              "      <td>3.360600</td>\n",
              "      <td>3.680100</td>\n",
              "      <td>3.311100</td>\n",
              "      <td>14.429900</td>\n",
              "      <td>14.709888</td>\n",
              "      <td>0.500000</td>\n",
              "    </tr>\n",
              "    <tr>\n",
              "      <th>std</th>\n",
              "      <td>2886.89568</td>\n",
              "      <td>0.499739</td>\n",
              "      <td>0.375035</td>\n",
              "      <td>14.897959</td>\n",
              "      <td>0.454751</td>\n",
              "      <td>0.621268</td>\n",
              "      <td>1022.281958</td>\n",
              "      <td>1.362745</td>\n",
              "      <td>1.527316</td>\n",
              "      <td>1.421168</td>\n",
              "      <td>...</td>\n",
              "      <td>1.331822</td>\n",
              "      <td>1.274777</td>\n",
              "      <td>1.308765</td>\n",
              "      <td>1.189746</td>\n",
              "      <td>1.258462</td>\n",
              "      <td>1.175118</td>\n",
              "      <td>1.311217</td>\n",
              "      <td>39.659674</td>\n",
              "      <td>39.990245</td>\n",
              "      <td>0.500025</td>\n",
              "    </tr>\n",
              "    <tr>\n",
              "      <th>min</th>\n",
              "      <td>1.00000</td>\n",
              "      <td>0.000000</td>\n",
              "      <td>0.000000</td>\n",
              "      <td>7.000000</td>\n",
              "      <td>0.000000</td>\n",
              "      <td>0.000000</td>\n",
              "      <td>31.000000</td>\n",
              "      <td>0.000000</td>\n",
              "      <td>0.000000</td>\n",
              "      <td>0.000000</td>\n",
              "      <td>...</td>\n",
              "      <td>0.000000</td>\n",
              "      <td>1.000000</td>\n",
              "      <td>0.000000</td>\n",
              "      <td>1.000000</td>\n",
              "      <td>0.000000</td>\n",
              "      <td>1.000000</td>\n",
              "      <td>0.000000</td>\n",
              "      <td>0.000000</td>\n",
              "      <td>0.000000</td>\n",
              "      <td>0.000000</td>\n",
              "    </tr>\n",
              "    <tr>\n",
              "      <th>25%</th>\n",
              "      <td>2500.75000</td>\n",
              "      <td>0.000000</td>\n",
              "      <td>1.000000</td>\n",
              "      <td>27.000000</td>\n",
              "      <td>0.000000</td>\n",
              "      <td>0.000000</td>\n",
              "      <td>421.000000</td>\n",
              "      <td>2.000000</td>\n",
              "      <td>2.000000</td>\n",
              "      <td>2.000000</td>\n",
              "      <td>...</td>\n",
              "      <td>2.000000</td>\n",
              "      <td>3.000000</td>\n",
              "      <td>2.000000</td>\n",
              "      <td>3.000000</td>\n",
              "      <td>3.000000</td>\n",
              "      <td>3.000000</td>\n",
              "      <td>2.000000</td>\n",
              "      <td>0.000000</td>\n",
              "      <td>0.000000</td>\n",
              "      <td>0.000000</td>\n",
              "    </tr>\n",
              "    <tr>\n",
              "      <th>50%</th>\n",
              "      <td>5000.50000</td>\n",
              "      <td>0.000000</td>\n",
              "      <td>1.000000</td>\n",
              "      <td>40.000000</td>\n",
              "      <td>1.000000</td>\n",
              "      <td>0.000000</td>\n",
              "      <td>863.500000</td>\n",
              "      <td>3.000000</td>\n",
              "      <td>3.000000</td>\n",
              "      <td>3.000000</td>\n",
              "      <td>...</td>\n",
              "      <td>4.000000</td>\n",
              "      <td>4.000000</td>\n",
              "      <td>4.000000</td>\n",
              "      <td>4.000000</td>\n",
              "      <td>3.000000</td>\n",
              "      <td>4.000000</td>\n",
              "      <td>3.000000</td>\n",
              "      <td>0.000000</td>\n",
              "      <td>0.000000</td>\n",
              "      <td>0.500000</td>\n",
              "    </tr>\n",
              "    <tr>\n",
              "      <th>75%</th>\n",
              "      <td>7500.25000</td>\n",
              "      <td>1.000000</td>\n",
              "      <td>1.000000</td>\n",
              "      <td>51.000000</td>\n",
              "      <td>1.000000</td>\n",
              "      <td>1.000000</td>\n",
              "      <td>1806.750000</td>\n",
              "      <td>4.000000</td>\n",
              "      <td>4.000000</td>\n",
              "      <td>4.000000</td>\n",
              "      <td>...</td>\n",
              "      <td>5.000000</td>\n",
              "      <td>4.000000</td>\n",
              "      <td>5.000000</td>\n",
              "      <td>5.000000</td>\n",
              "      <td>4.000000</td>\n",
              "      <td>5.000000</td>\n",
              "      <td>4.000000</td>\n",
              "      <td>12.000000</td>\n",
              "      <td>13.000000</td>\n",
              "      <td>1.000000</td>\n",
              "    </tr>\n",
              "    <tr>\n",
              "      <th>max</th>\n",
              "      <td>10000.00000</td>\n",
              "      <td>1.000000</td>\n",
              "      <td>1.000000</td>\n",
              "      <td>80.000000</td>\n",
              "      <td>1.000000</td>\n",
              "      <td>2.000000</td>\n",
              "      <td>4983.000000</td>\n",
              "      <td>5.000000</td>\n",
              "      <td>5.000000</td>\n",
              "      <td>5.000000</td>\n",
              "      <td>...</td>\n",
              "      <td>5.000000</td>\n",
              "      <td>5.000000</td>\n",
              "      <td>5.000000</td>\n",
              "      <td>5.000000</td>\n",
              "      <td>5.000000</td>\n",
              "      <td>5.000000</td>\n",
              "      <td>5.000000</td>\n",
              "      <td>921.000000</td>\n",
              "      <td>924.000000</td>\n",
              "      <td>1.000000</td>\n",
              "    </tr>\n",
              "  </tbody>\n",
              "</table>\n",
              "<p>8 rows × 24 columns</p>\n",
              "</div>"
            ],
            "text/plain": [
              "                id        Gender  Customer Type           Age  Type of Travel  \\\n",
              "count  10000.00000  10000.000000   10000.000000  10000.000000    10000.000000   \n",
              "mean    5000.50000      0.483100       0.830700     39.375100        0.707900   \n",
              "std     2886.89568      0.499739       0.375035     14.897959        0.454751   \n",
              "min        1.00000      0.000000       0.000000      7.000000        0.000000   \n",
              "25%     2500.75000      0.000000       1.000000     27.000000        0.000000   \n",
              "50%     5000.50000      0.000000       1.000000     40.000000        1.000000   \n",
              "75%     7500.25000      1.000000       1.000000     51.000000        1.000000   \n",
              "max    10000.00000      1.000000       1.000000     80.000000        1.000000   \n",
              "\n",
              "              Class  Flight Distance  Inflight wifi service  \\\n",
              "count  10000.000000     10000.000000           10000.000000   \n",
              "mean       0.565300      1229.556200               2.780200   \n",
              "std        0.621268      1022.281958               1.362745   \n",
              "min        0.000000        31.000000               0.000000   \n",
              "25%        0.000000       421.000000               2.000000   \n",
              "50%        0.000000       863.500000               3.000000   \n",
              "75%        1.000000      1806.750000               4.000000   \n",
              "max        2.000000      4983.000000               5.000000   \n",
              "\n",
              "       Departure/Arrival time convenient  Ease of Online booking  ...  \\\n",
              "count                       10000.000000            10000.000000  ...   \n",
              "mean                            3.065100                2.797800  ...   \n",
              "std                             1.527316                1.421168  ...   \n",
              "min                             0.000000                0.000000  ...   \n",
              "25%                             2.000000                2.000000  ...   \n",
              "50%                             3.000000                3.000000  ...   \n",
              "75%                             4.000000                4.000000  ...   \n",
              "max                             5.000000                5.000000  ...   \n",
              "\n",
              "       Inflight entertainment  On-board service  Leg room service  \\\n",
              "count            10000.000000      10000.000000      10000.000000   \n",
              "mean                 3.402900          3.454100          3.415700   \n",
              "std                  1.331822          1.274777          1.308765   \n",
              "min                  0.000000          1.000000          0.000000   \n",
              "25%                  2.000000          3.000000          2.000000   \n",
              "50%                  4.000000          4.000000          4.000000   \n",
              "75%                  5.000000          4.000000          5.000000   \n",
              "max                  5.000000          5.000000          5.000000   \n",
              "\n",
              "       Baggage handling  Checkin service  Inflight service   Cleanliness  \\\n",
              "count      10000.000000     10000.000000      10000.000000  10000.000000   \n",
              "mean           3.676200         3.360600          3.680100      3.311100   \n",
              "std            1.189746         1.258462          1.175118      1.311217   \n",
              "min            1.000000         0.000000          1.000000      0.000000   \n",
              "25%            3.000000         3.000000          3.000000      2.000000   \n",
              "50%            4.000000         3.000000          4.000000      3.000000   \n",
              "75%            5.000000         4.000000          5.000000      4.000000   \n",
              "max            5.000000         5.000000          5.000000      5.000000   \n",
              "\n",
              "       Departure Delay in Minutes  Arrival Delay in Minutes  satisfaction  \n",
              "count                10000.000000              10000.000000  10000.000000  \n",
              "mean                    14.429900                 14.709888      0.500000  \n",
              "std                     39.659674                 39.990245      0.500025  \n",
              "min                      0.000000                  0.000000      0.000000  \n",
              "25%                      0.000000                  0.000000      0.000000  \n",
              "50%                      0.000000                  0.000000      0.500000  \n",
              "75%                     12.000000                 13.000000      1.000000  \n",
              "max                    921.000000                924.000000      1.000000  \n",
              "\n",
              "[8 rows x 24 columns]"
            ]
          },
          "execution_count": 39,
          "metadata": {},
          "output_type": "execute_result"
        }
      ],
      "source": [
        "df_train.describe()\n",
        "\n",
        "# dataset'ning umumiy statistikasi aniqlandi"
      ]
    },
    {
      "cell_type": "code",
      "execution_count": 40,
      "metadata": {},
      "outputs": [
        {
          "data": {
            "text/html": [
              "<div>\n",
              "<style scoped>\n",
              "    .dataframe tbody tr th:only-of-type {\n",
              "        vertical-align: middle;\n",
              "    }\n",
              "\n",
              "    .dataframe tbody tr th {\n",
              "        vertical-align: top;\n",
              "    }\n",
              "\n",
              "    .dataframe thead th {\n",
              "        text-align: right;\n",
              "    }\n",
              "</style>\n",
              "<table border=\"1\" class=\"dataframe\">\n",
              "  <thead>\n",
              "    <tr style=\"text-align: right;\">\n",
              "      <th></th>\n",
              "      <th>id</th>\n",
              "      <th>Gender</th>\n",
              "      <th>Customer Type</th>\n",
              "      <th>Age</th>\n",
              "      <th>Type of Travel</th>\n",
              "      <th>Class</th>\n",
              "      <th>Flight Distance</th>\n",
              "      <th>Inflight wifi service</th>\n",
              "      <th>Departure/Arrival time convenient</th>\n",
              "      <th>Ease of Online booking</th>\n",
              "      <th>...</th>\n",
              "      <th>Seat comfort</th>\n",
              "      <th>Inflight entertainment</th>\n",
              "      <th>On-board service</th>\n",
              "      <th>Leg room service</th>\n",
              "      <th>Baggage handling</th>\n",
              "      <th>Checkin service</th>\n",
              "      <th>Inflight service</th>\n",
              "      <th>Cleanliness</th>\n",
              "      <th>Departure Delay in Minutes</th>\n",
              "      <th>Arrival Delay in Minutes</th>\n",
              "    </tr>\n",
              "  </thead>\n",
              "  <tbody>\n",
              "    <tr>\n",
              "      <th>count</th>\n",
              "      <td>4000.000000</td>\n",
              "      <td>4000.000000</td>\n",
              "      <td>4000.000000</td>\n",
              "      <td>4000.000000</td>\n",
              "      <td>4000.000000</td>\n",
              "      <td>4000.000000</td>\n",
              "      <td>4000.000000</td>\n",
              "      <td>4000.000000</td>\n",
              "      <td>4000.000000</td>\n",
              "      <td>4000.000000</td>\n",
              "      <td>...</td>\n",
              "      <td>4000.000000</td>\n",
              "      <td>4000.000000</td>\n",
              "      <td>4000.000000</td>\n",
              "      <td>4000.000000</td>\n",
              "      <td>4000.000000</td>\n",
              "      <td>4000.000000</td>\n",
              "      <td>4000.000000</td>\n",
              "      <td>4000.000000</td>\n",
              "      <td>4000.00000</td>\n",
              "      <td>4000.000000</td>\n",
              "    </tr>\n",
              "    <tr>\n",
              "      <th>mean</th>\n",
              "      <td>2000.500000</td>\n",
              "      <td>0.503250</td>\n",
              "      <td>0.184000</td>\n",
              "      <td>39.886750</td>\n",
              "      <td>0.282250</td>\n",
              "      <td>0.562250</td>\n",
              "      <td>1217.960000</td>\n",
              "      <td>2.768250</td>\n",
              "      <td>3.021250</td>\n",
              "      <td>2.788500</td>\n",
              "      <td>...</td>\n",
              "      <td>3.514250</td>\n",
              "      <td>3.412000</td>\n",
              "      <td>3.405750</td>\n",
              "      <td>3.379750</td>\n",
              "      <td>3.631250</td>\n",
              "      <td>3.334500</td>\n",
              "      <td>3.679500</td>\n",
              "      <td>3.349750</td>\n",
              "      <td>13.86525</td>\n",
              "      <td>14.157749</td>\n",
              "    </tr>\n",
              "    <tr>\n",
              "      <th>std</th>\n",
              "      <td>1154.844867</td>\n",
              "      <td>0.500052</td>\n",
              "      <td>0.387533</td>\n",
              "      <td>14.748519</td>\n",
              "      <td>0.450151</td>\n",
              "      <td>0.621065</td>\n",
              "      <td>1012.709063</td>\n",
              "      <td>1.380948</td>\n",
              "      <td>1.554478</td>\n",
              "      <td>1.448721</td>\n",
              "      <td>...</td>\n",
              "      <td>1.319179</td>\n",
              "      <td>1.322382</td>\n",
              "      <td>1.275352</td>\n",
              "      <td>1.346103</td>\n",
              "      <td>1.187487</td>\n",
              "      <td>1.257778</td>\n",
              "      <td>1.184749</td>\n",
              "      <td>1.319796</td>\n",
              "      <td>35.48267</td>\n",
              "      <td>35.746366</td>\n",
              "    </tr>\n",
              "    <tr>\n",
              "      <th>min</th>\n",
              "      <td>1.000000</td>\n",
              "      <td>0.000000</td>\n",
              "      <td>0.000000</td>\n",
              "      <td>7.000000</td>\n",
              "      <td>0.000000</td>\n",
              "      <td>0.000000</td>\n",
              "      <td>67.000000</td>\n",
              "      <td>0.000000</td>\n",
              "      <td>0.000000</td>\n",
              "      <td>0.000000</td>\n",
              "      <td>...</td>\n",
              "      <td>1.000000</td>\n",
              "      <td>1.000000</td>\n",
              "      <td>1.000000</td>\n",
              "      <td>0.000000</td>\n",
              "      <td>1.000000</td>\n",
              "      <td>1.000000</td>\n",
              "      <td>1.000000</td>\n",
              "      <td>1.000000</td>\n",
              "      <td>0.00000</td>\n",
              "      <td>0.000000</td>\n",
              "    </tr>\n",
              "    <tr>\n",
              "      <th>25%</th>\n",
              "      <td>1000.750000</td>\n",
              "      <td>0.000000</td>\n",
              "      <td>0.000000</td>\n",
              "      <td>27.000000</td>\n",
              "      <td>0.000000</td>\n",
              "      <td>0.000000</td>\n",
              "      <td>416.750000</td>\n",
              "      <td>2.000000</td>\n",
              "      <td>2.000000</td>\n",
              "      <td>2.000000</td>\n",
              "      <td>...</td>\n",
              "      <td>3.000000</td>\n",
              "      <td>2.000000</td>\n",
              "      <td>3.000000</td>\n",
              "      <td>2.000000</td>\n",
              "      <td>3.000000</td>\n",
              "      <td>3.000000</td>\n",
              "      <td>3.000000</td>\n",
              "      <td>2.000000</td>\n",
              "      <td>0.00000</td>\n",
              "      <td>0.000000</td>\n",
              "    </tr>\n",
              "    <tr>\n",
              "      <th>50%</th>\n",
              "      <td>2000.500000</td>\n",
              "      <td>1.000000</td>\n",
              "      <td>0.000000</td>\n",
              "      <td>40.000000</td>\n",
              "      <td>0.000000</td>\n",
              "      <td>0.000000</td>\n",
              "      <td>868.000000</td>\n",
              "      <td>3.000000</td>\n",
              "      <td>3.000000</td>\n",
              "      <td>3.000000</td>\n",
              "      <td>...</td>\n",
              "      <td>4.000000</td>\n",
              "      <td>4.000000</td>\n",
              "      <td>4.000000</td>\n",
              "      <td>4.000000</td>\n",
              "      <td>4.000000</td>\n",
              "      <td>3.000000</td>\n",
              "      <td>4.000000</td>\n",
              "      <td>4.000000</td>\n",
              "      <td>0.00000</td>\n",
              "      <td>0.000000</td>\n",
              "    </tr>\n",
              "    <tr>\n",
              "      <th>75%</th>\n",
              "      <td>3000.250000</td>\n",
              "      <td>1.000000</td>\n",
              "      <td>0.000000</td>\n",
              "      <td>51.000000</td>\n",
              "      <td>1.000000</td>\n",
              "      <td>1.000000</td>\n",
              "      <td>1750.000000</td>\n",
              "      <td>4.000000</td>\n",
              "      <td>4.000000</td>\n",
              "      <td>4.000000</td>\n",
              "      <td>...</td>\n",
              "      <td>5.000000</td>\n",
              "      <td>5.000000</td>\n",
              "      <td>4.000000</td>\n",
              "      <td>5.000000</td>\n",
              "      <td>5.000000</td>\n",
              "      <td>4.000000</td>\n",
              "      <td>5.000000</td>\n",
              "      <td>4.000000</td>\n",
              "      <td>12.00000</td>\n",
              "      <td>13.000000</td>\n",
              "    </tr>\n",
              "    <tr>\n",
              "      <th>max</th>\n",
              "      <td>4000.000000</td>\n",
              "      <td>1.000000</td>\n",
              "      <td>1.000000</td>\n",
              "      <td>80.000000</td>\n",
              "      <td>1.000000</td>\n",
              "      <td>2.000000</td>\n",
              "      <td>4983.000000</td>\n",
              "      <td>5.000000</td>\n",
              "      <td>5.000000</td>\n",
              "      <td>5.000000</td>\n",
              "      <td>...</td>\n",
              "      <td>5.000000</td>\n",
              "      <td>5.000000</td>\n",
              "      <td>5.000000</td>\n",
              "      <td>5.000000</td>\n",
              "      <td>5.000000</td>\n",
              "      <td>5.000000</td>\n",
              "      <td>5.000000</td>\n",
              "      <td>5.000000</td>\n",
              "      <td>624.00000</td>\n",
              "      <td>615.000000</td>\n",
              "    </tr>\n",
              "  </tbody>\n",
              "</table>\n",
              "<p>8 rows × 23 columns</p>\n",
              "</div>"
            ],
            "text/plain": [
              "                id       Gender  Customer Type          Age  Type of Travel  \\\n",
              "count  4000.000000  4000.000000    4000.000000  4000.000000     4000.000000   \n",
              "mean   2000.500000     0.503250       0.184000    39.886750        0.282250   \n",
              "std    1154.844867     0.500052       0.387533    14.748519        0.450151   \n",
              "min       1.000000     0.000000       0.000000     7.000000        0.000000   \n",
              "25%    1000.750000     0.000000       0.000000    27.000000        0.000000   \n",
              "50%    2000.500000     1.000000       0.000000    40.000000        0.000000   \n",
              "75%    3000.250000     1.000000       0.000000    51.000000        1.000000   \n",
              "max    4000.000000     1.000000       1.000000    80.000000        1.000000   \n",
              "\n",
              "             Class  Flight Distance  Inflight wifi service  \\\n",
              "count  4000.000000      4000.000000            4000.000000   \n",
              "mean      0.562250      1217.960000               2.768250   \n",
              "std       0.621065      1012.709063               1.380948   \n",
              "min       0.000000        67.000000               0.000000   \n",
              "25%       0.000000       416.750000               2.000000   \n",
              "50%       0.000000       868.000000               3.000000   \n",
              "75%       1.000000      1750.000000               4.000000   \n",
              "max       2.000000      4983.000000               5.000000   \n",
              "\n",
              "       Departure/Arrival time convenient  Ease of Online booking  ...  \\\n",
              "count                        4000.000000             4000.000000  ...   \n",
              "mean                            3.021250                2.788500  ...   \n",
              "std                             1.554478                1.448721  ...   \n",
              "min                             0.000000                0.000000  ...   \n",
              "25%                             2.000000                2.000000  ...   \n",
              "50%                             3.000000                3.000000  ...   \n",
              "75%                             4.000000                4.000000  ...   \n",
              "max                             5.000000                5.000000  ...   \n",
              "\n",
              "       Seat comfort  Inflight entertainment  On-board service  \\\n",
              "count   4000.000000             4000.000000       4000.000000   \n",
              "mean       3.514250                3.412000          3.405750   \n",
              "std        1.319179                1.322382          1.275352   \n",
              "min        1.000000                1.000000          1.000000   \n",
              "25%        3.000000                2.000000          3.000000   \n",
              "50%        4.000000                4.000000          4.000000   \n",
              "75%        5.000000                5.000000          4.000000   \n",
              "max        5.000000                5.000000          5.000000   \n",
              "\n",
              "       Leg room service  Baggage handling  Checkin service  Inflight service  \\\n",
              "count       4000.000000       4000.000000      4000.000000       4000.000000   \n",
              "mean           3.379750          3.631250         3.334500          3.679500   \n",
              "std            1.346103          1.187487         1.257778          1.184749   \n",
              "min            0.000000          1.000000         1.000000          1.000000   \n",
              "25%            2.000000          3.000000         3.000000          3.000000   \n",
              "50%            4.000000          4.000000         3.000000          4.000000   \n",
              "75%            5.000000          5.000000         4.000000          5.000000   \n",
              "max            5.000000          5.000000         5.000000          5.000000   \n",
              "\n",
              "       Cleanliness  Departure Delay in Minutes  Arrival Delay in Minutes  \n",
              "count  4000.000000                  4000.00000               4000.000000  \n",
              "mean      3.349750                    13.86525                 14.157749  \n",
              "std       1.319796                    35.48267                 35.746366  \n",
              "min       1.000000                     0.00000                  0.000000  \n",
              "25%       2.000000                     0.00000                  0.000000  \n",
              "50%       4.000000                     0.00000                  0.000000  \n",
              "75%       4.000000                    12.00000                 13.000000  \n",
              "max       5.000000                   624.00000                615.000000  \n",
              "\n",
              "[8 rows x 23 columns]"
            ]
          },
          "execution_count": 40,
          "metadata": {},
          "output_type": "execute_result"
        }
      ],
      "source": [
        "df_test.describe()"
      ]
    },
    {
      "cell_type": "markdown",
      "metadata": {
        "id": "P5SedRKDc0FX"
      },
      "source": [
        "## **Data Visualization with Correlation**"
      ]
    },
    {
      "cell_type": "code",
      "execution_count": 41,
      "metadata": {
        "colab": {
          "base_uri": "https://localhost:8080/",
          "height": 763
        },
        "id": "NCof3yUhlbGr",
        "outputId": "b6f56310-b755-4765-8155-a9a72a2ca897"
      },
      "outputs": [
        {
          "name": "stderr",
          "output_type": "stream",
          "text": [
            "C:\\Users\\Bismilloh\\AppData\\Local\\Temp\\ipykernel_16116\\3168496406.py:3: FutureWarning: \n",
            "\n",
            "Passing `palette` without assigning `hue` is deprecated and will be removed in v0.14.0. Assign the `y` variable to `hue` and set `legend=False` for the same effect.\n",
            "\n",
            "  sns.barplot(x=corr_train.to_frame()[0], y=corr_train.to_frame().index, palette='Blues_r')\n"
          ]
        },
        {
          "data": {
            "image/png": "[encoded data removed]",
            "text/plain": [
              "<Figure size 1000x800 with 1 Axes>"
            ]
          },
          "metadata": {},
          "output_type": "display_data"
        }
      ],
      "source": [
        "corr_train = df_train.corrwith(df_train['satisfaction'], numeric_only=True).abs().sort_values(ascending=False)\n",
        "plt.figure(figsize=(10,8))\n",
        "sns.barplot(x=corr_train.to_frame()[0], y=corr_train.to_frame().index, palette='Blues_r')\n",
        "plt.title('Correlation of Features with Satisfaction')\n",
        "plt.show()\n",
        "\n",
        "# Train dataset uchun \"Satisfaction\" ustuni bilan yuqori Correlation bo'lgan ustunlar aniqlandi"
      ]
    },
    {
      "cell_type": "code",
      "execution_count": 42,
      "metadata": {
        "id": "WtTKqCMtc0FY"
      },
      "outputs": [],
      "source": [
        "not_corr_train_columns = [\"On-board service\", \"Leg room service\", \"Cleanliness\", \"Flight Distance\", \"Inflight wifi service\",\n",
        "                    \"Baggage handling\", \"Inflight service\", \"Checkin service\", \"Food and drink\", \"Customer Type\",\n",
        "                    \"Ease of Online booking\", \"Age\", \"Departure/Arrival time convenient\", \"Arrival Delay in Minutes\",\n",
        "                    \"Departure Delay in Minutes\", \"Gate location\", \"Gender\"]\n",
        "\n",
        "df_train = df_train.drop(not_corr_train_columns, axis = 1)\n",
        "\n",
        "# Train_dataset uchun Correlation juda past bo'lganlar .drop qilindi"
      ]
    },
    {
      "cell_type": "code",
      "execution_count": 43,
      "metadata": {},
      "outputs": [],
      "source": [
        "not_corr_test_columns = [\"On-board service\", \"Leg room service\", \"Cleanliness\", \"Flight Distance\", \"Inflight wifi service\",\n",
        "                    \"Baggage handling\", \"Inflight service\", \"Checkin service\", \"Food and drink\", \"Customer Type\",\n",
        "                    \"Ease of Online booking\", \"Age\", \"Departure/Arrival time convenient\", \"Arrival Delay in Minutes\",\n",
        "                    \"Departure Delay in Minutes\", \"Gate location\", \"Gender\"]\n",
        "\n",
        "df_test = df_test.drop(not_corr_test_columns, axis = 1)\n",
        "\n",
        "# Train_dataset uchun Correlation juda past bo'lganlar .drop qilindi"
      ]
    },
    {
      "cell_type": "code",
      "execution_count": 44,
      "metadata": {
        "colab": {
          "base_uri": "https://localhost:8080/"
        },
        "id": "vkDiZnWenP6D",
        "outputId": "1aeba624-62b7-4d5e-df64-5375eb5e68e7"
      },
      "outputs": [
        {
          "name": "stdout",
          "output_type": "stream",
          "text": [
            "Keraksiz ustunlar soni: 17 ta\n",
            "Kerakli ustunlar soni: 7 ta\n",
            "Jami ustunlar soni: 24 ta\n"
          ]
        }
      ],
      "source": [
        "print(f\"Keraksiz ustunlar soni: {len(not_corr_train_columns)} ta\")\n",
        "print(f\"Kerakli ustunlar soni: {len(df_train.columns)} ta\")\n",
        "print(f\"Jami ustunlar soni: {len(not_corr_train_columns) + len(df_train.columns)} ta\")"
      ]
    },
    {
      "cell_type": "code",
      "execution_count": 45,
      "metadata": {
        "colab": {
          "base_uri": "https://localhost:8080/",
          "height": 272
        },
        "id": "Twd_MI8Jc0FY",
        "outputId": "bb704e28-f5bc-45ee-8f81-7121edf5cf34"
      },
      "outputs": [
        {
          "data": {
            "text/plain": [
              "satisfaction              1.000000\n",
              "Online boarding           0.504986\n",
              "Type of Travel            0.482266\n",
              "Inflight entertainment    0.400900\n",
              "Seat comfort              0.342294\n",
              "id                        0.002931\n",
              "Class                    -0.463430\n",
              "Name: satisfaction, dtype: float64"
            ]
          },
          "execution_count": 45,
          "metadata": {},
          "output_type": "execute_result"
        }
      ],
      "source": [
        "correlation = df_train.select_dtypes(include = \"number\").corr().sort_values(by = \"satisfaction\")\n",
        "\n",
        "corr_satisfaction = correlation[\"satisfaction\"].sort_values(ascending = False)\n",
        "corr_satisfaction\n",
        "\n",
        "# faqat \"satisfaction\" ustuni uchun eng katta bog'liq bo'lgan ustunlar"
      ]
    },
    {
      "cell_type": "code",
      "execution_count": 46,
      "metadata": {
        "colab": {
          "base_uri": "https://localhost:8080/",
          "height": 620
        },
        "id": "PcvGQHGxc0FZ",
        "outputId": "1cfc47bc-ecb4-4854-de2d-beb0c91c183b"
      },
      "outputs": [
        {
          "name": "stderr",
          "output_type": "stream",
          "text": [
            "C:\\Users\\Bismilloh\\AppData\\Local\\Temp\\ipykernel_16116\\1046178703.py:2: FutureWarning: \n",
            "\n",
            "Setting a gradient palette using color= is deprecated and will be removed in v0.14.0. Set `palette='dark:blue'` for the same effect.\n",
            "\n",
            "  sns.countplot(data = df_train, x = \"satisfaction\", hue = \"Online boarding\", color = \"blue\")\n"
          ]
        },
        {
          "data": {
            "image/png": "[encoded data removed]",
            "text/plain": [
              "<Figure size 1600x800 with 1 Axes>"
            ]
          },
          "metadata": {},
          "output_type": "display_data"
        }
      ],
      "source": [
        "plt.figure(figsize = (16, 8))\n",
        "sns.countplot(data = df_train, x = \"satisfaction\", hue = \"Online boarding\", color = \"blue\")\n",
        "plt.show()\n",
        "\n",
        "# Aviaqatnovdan Qoniqish yoki qoniqmaslik, Online boarding - qoniqishni 5 shkalada baholangan"
      ]
    },
    {
      "cell_type": "code",
      "execution_count": 47,
      "metadata": {
        "colab": {
          "base_uri": "https://localhost:8080/",
          "height": 733
        },
        "id": "ln4TFnrqc0FZ",
        "outputId": "893bde53-c728-483e-a2f1-2dbb7bea36f5"
      },
      "outputs": [
        {
          "name": "stderr",
          "output_type": "stream",
          "text": [
            "C:\\Users\\Bismilloh\\AppData\\Local\\Temp\\ipykernel_16116\\2233869935.py:2: FutureWarning: \n",
            "\n",
            "Setting a gradient palette using color= is deprecated and will be removed in v0.14.0. Set `palette='dark:red'` for the same effect.\n",
            "\n",
            "  sns.countplot(data = df_train, x = \"satisfaction\", hue = \"Type of Travel\", color = \"red\")\n"
          ]
        },
        {
          "data": {
            "image/png": "[encoded data removed]",
            "text/plain": [
              "<Figure size 1600x1000 with 1 Axes>"
            ]
          },
          "metadata": {},
          "output_type": "display_data"
        }
      ],
      "source": [
        "plt.figure(figsize = (16, 10))\n",
        "sns.countplot(data = df_train, x = \"satisfaction\", hue = \"Type of Travel\", color = \"red\")\n",
        "plt.show()\n",
        "\n",
        "# Aviaqatnovdan Qoniqish yoki qoniqmaslik, Type of Travel orqali tahlil qilingan\n",
        "# demak, business travelda Qoniqish ancha yuqori ekan, Personal'ga nisbatan"
      ]
    },
    {
      "cell_type": "code",
      "execution_count": 48,
      "metadata": {
        "colab": {
          "base_uri": "https://localhost:8080/",
          "height": 237
        },
        "id": "UqQbbd0miVD8",
        "outputId": "f1fadb5e-e5b5-463e-e4f0-f37f5e17c507"
      },
      "outputs": [
        {
          "data": {
            "text/html": [
              "<div>\n",
              "<style scoped>\n",
              "    .dataframe tbody tr th:only-of-type {\n",
              "        vertical-align: middle;\n",
              "    }\n",
              "\n",
              "    .dataframe tbody tr th {\n",
              "        vertical-align: top;\n",
              "    }\n",
              "\n",
              "    .dataframe thead th {\n",
              "        text-align: right;\n",
              "    }\n",
              "</style>\n",
              "<table border=\"1\" class=\"dataframe\">\n",
              "  <thead>\n",
              "    <tr style=\"text-align: right;\">\n",
              "      <th></th>\n",
              "      <th>id</th>\n",
              "      <th>Type of Travel</th>\n",
              "      <th>Class</th>\n",
              "      <th>Online boarding</th>\n",
              "      <th>Seat comfort</th>\n",
              "      <th>Inflight entertainment</th>\n",
              "      <th>satisfaction</th>\n",
              "    </tr>\n",
              "  </thead>\n",
              "  <tbody>\n",
              "    <tr>\n",
              "      <th>205</th>\n",
              "      <td>206</td>\n",
              "      <td>0</td>\n",
              "      <td>1</td>\n",
              "      <td>2</td>\n",
              "      <td>4</td>\n",
              "      <td>4</td>\n",
              "      <td>0</td>\n",
              "    </tr>\n",
              "    <tr>\n",
              "      <th>1749</th>\n",
              "      <td>1750</td>\n",
              "      <td>0</td>\n",
              "      <td>1</td>\n",
              "      <td>2</td>\n",
              "      <td>4</td>\n",
              "      <td>4</td>\n",
              "      <td>0</td>\n",
              "    </tr>\n",
              "    <tr>\n",
              "      <th>199</th>\n",
              "      <td>200</td>\n",
              "      <td>1</td>\n",
              "      <td>2</td>\n",
              "      <td>5</td>\n",
              "      <td>5</td>\n",
              "      <td>5</td>\n",
              "      <td>1</td>\n",
              "    </tr>\n",
              "    <tr>\n",
              "      <th>2698</th>\n",
              "      <td>2699</td>\n",
              "      <td>1</td>\n",
              "      <td>0</td>\n",
              "      <td>4</td>\n",
              "      <td>4</td>\n",
              "      <td>3</td>\n",
              "      <td>1</td>\n",
              "    </tr>\n",
              "    <tr>\n",
              "      <th>2941</th>\n",
              "      <td>2942</td>\n",
              "      <td>0</td>\n",
              "      <td>0</td>\n",
              "      <td>4</td>\n",
              "      <td>5</td>\n",
              "      <td>1</td>\n",
              "      <td>0</td>\n",
              "    </tr>\n",
              "  </tbody>\n",
              "</table>\n",
              "</div>"
            ],
            "text/plain": [
              "        id  Type of Travel  Class  Online boarding  Seat comfort  \\\n",
              "205    206               0      1                2             4   \n",
              "1749  1750               0      1                2             4   \n",
              "199    200               1      2                5             5   \n",
              "2698  2699               1      0                4             4   \n",
              "2941  2942               0      0                4             5   \n",
              "\n",
              "      Inflight entertainment  satisfaction  \n",
              "205                        4             0  \n",
              "1749                       4             0  \n",
              "199                        5             1  \n",
              "2698                       3             1  \n",
              "2941                       1             0  "
            ]
          },
          "execution_count": 48,
          "metadata": {},
          "output_type": "execute_result"
        }
      ],
      "source": [
        "df_train.sample(5)\n",
        "\n",
        "# dataset'ning eng kerakli qismi qoldi va bu Mashine Learning processing uchun tayyor"
      ]
    },
    {
      "cell_type": "code",
      "execution_count": 49,
      "metadata": {},
      "outputs": [
        {
          "data": {
            "text/html": [
              "<div>\n",
              "<style scoped>\n",
              "    .dataframe tbody tr th:only-of-type {\n",
              "        vertical-align: middle;\n",
              "    }\n",
              "\n",
              "    .dataframe tbody tr th {\n",
              "        vertical-align: top;\n",
              "    }\n",
              "\n",
              "    .dataframe thead th {\n",
              "        text-align: right;\n",
              "    }\n",
              "</style>\n",
              "<table border=\"1\" class=\"dataframe\">\n",
              "  <thead>\n",
              "    <tr style=\"text-align: right;\">\n",
              "      <th></th>\n",
              "      <th>id</th>\n",
              "      <th>Type of Travel</th>\n",
              "      <th>Class</th>\n",
              "      <th>Online boarding</th>\n",
              "      <th>Seat comfort</th>\n",
              "      <th>Inflight entertainment</th>\n",
              "    </tr>\n",
              "  </thead>\n",
              "  <tbody>\n",
              "    <tr>\n",
              "      <th>703</th>\n",
              "      <td>704</td>\n",
              "      <td>0.0</td>\n",
              "      <td>0.0</td>\n",
              "      <td>3</td>\n",
              "      <td>2</td>\n",
              "      <td>5</td>\n",
              "    </tr>\n",
              "    <tr>\n",
              "      <th>3989</th>\n",
              "      <td>3990</td>\n",
              "      <td>1.0</td>\n",
              "      <td>1.0</td>\n",
              "      <td>3</td>\n",
              "      <td>1</td>\n",
              "      <td>1</td>\n",
              "    </tr>\n",
              "    <tr>\n",
              "      <th>3241</th>\n",
              "      <td>3242</td>\n",
              "      <td>0.0</td>\n",
              "      <td>0.0</td>\n",
              "      <td>4</td>\n",
              "      <td>4</td>\n",
              "      <td>4</td>\n",
              "    </tr>\n",
              "    <tr>\n",
              "      <th>2954</th>\n",
              "      <td>2955</td>\n",
              "      <td>1.0</td>\n",
              "      <td>1.0</td>\n",
              "      <td>4</td>\n",
              "      <td>5</td>\n",
              "      <td>5</td>\n",
              "    </tr>\n",
              "    <tr>\n",
              "      <th>951</th>\n",
              "      <td>952</td>\n",
              "      <td>1.0</td>\n",
              "      <td>1.0</td>\n",
              "      <td>3</td>\n",
              "      <td>5</td>\n",
              "      <td>5</td>\n",
              "    </tr>\n",
              "  </tbody>\n",
              "</table>\n",
              "</div>"
            ],
            "text/plain": [
              "        id  Type of Travel  Class  Online boarding  Seat comfort  \\\n",
              "703    704             0.0    0.0                3             2   \n",
              "3989  3990             1.0    1.0                3             1   \n",
              "3241  3242             0.0    0.0                4             4   \n",
              "2954  2955             1.0    1.0                4             5   \n",
              "951    952             1.0    1.0                3             5   \n",
              "\n",
              "      Inflight entertainment  \n",
              "703                        5  \n",
              "3989                       1  \n",
              "3241                       4  \n",
              "2954                       5  \n",
              "951                        5  "
            ]
          },
          "execution_count": 49,
          "metadata": {},
          "output_type": "execute_result"
        }
      ],
      "source": [
        "df_test.sample(5)\n",
        "\n",
        "# dataset'ning eng kerakli qismi qoldi va bu Mashine Learning processing uchun tayyor"
      ]
    },
    {
      "cell_type": "markdown",
      "metadata": {
        "id": "Cz6hQL2HCJfW"
      },
      "source": [
        "**3-QADAM: MA'LUMOTLARNI TAYYORLASH**"
      ]
    },
    {
      "cell_type": "markdown",
      "metadata": {
        "id": "WtL1FVbGc0FZ"
      },
      "source": [
        "Ma'lumotlarni ajratib olish (X-parametrlar) va Labellash (Y label)"
      ]
    },
    {
      "cell_type": "code",
      "execution_count": 50,
      "metadata": {},
      "outputs": [
        {
          "name": "stdout",
          "output_type": "stream",
          "text": [
            "Parametr yoki Input qismi:          id  Type of Travel  Class  Online boarding  Seat comfort  \\\n",
            "0         1               1      1                2             4   \n",
            "1         2               1      0                5             4   \n",
            "2         3               1      1                4             3   \n",
            "3         4               1      0                2             2   \n",
            "4         5               0      1                3             4   \n",
            "...     ...             ...    ...              ...           ...   \n",
            "9995   9996               0      1                5             4   \n",
            "9996   9997               1      2                3             3   \n",
            "9997   9998               1      0                4             5   \n",
            "9998   9999               1      0                4             5   \n",
            "9999  10000               1      0                3             5   \n",
            "\n",
            "      Inflight entertainment  \n",
            "0                          4  \n",
            "1                          5  \n",
            "2                          1  \n",
            "3                          2  \n",
            "4                          4  \n",
            "...                      ...  \n",
            "9995                       4  \n",
            "9996                       4  \n",
            "9997                       4  \n",
            "9998                       3  \n",
            "9999                       4  \n",
            "\n",
            "[10000 rows x 6 columns]\n",
            "Label qismi: 0       0\n",
            "1       1\n",
            "2       0\n",
            "3       1\n",
            "4       0\n",
            "       ..\n",
            "9995    0\n",
            "9996    0\n",
            "9997    1\n",
            "9998    1\n",
            "9999    1\n",
            "Name: satisfaction, Length: 10000, dtype: int64\n"
          ]
        }
      ],
      "source": [
        "X = df_train.drop(\"satisfaction\", axis = 1)\n",
        "y = df_train[\"satisfaction\"]\n",
        "\n",
        "print(f\"Parametr yoki Input qismi: {X}\")\n",
        "print(f\"Label qismi: {y}\")\n",
        "\n",
        "# dataset X-parametr va y-label ajratildi"
      ]
    },
    {
      "cell_type": "code",
      "execution_count": 73,
      "metadata": {
        "colab": {
          "base_uri": "https://localhost:8080/"
        },
        "id": "phWZyltjc0Fa",
        "outputId": "d5757725-9d6b-4e63-9a70-6d29377a0b14"
      },
      "outputs": [],
      "source": [
        "from sklearn.model_selection import train_test_split\n",
        "\n",
        "X_train, X_test, y_train, y_test = train_test_split(X, y, test_size = 0.4, random_state = 12)\n",
        "\n",
        "# train_set va test_set ajratildi"
      ]
    },
    {
      "cell_type": "code",
      "execution_count": 74,
      "metadata": {
        "colab": {
          "base_uri": "https://localhost:8080/"
        },
        "id": "OfvSpIslc0Fa",
        "outputId": "b09fc53d-55d2-469e-8fd1-f5c93cb9c28b"
      },
      "outputs": [
        {
          "name": "stdout",
          "output_type": "stream",
          "text": [
            "Umumiy Parametr hajmi: (10000, 6)\n",
            "\n",
            "Umumiy  Label hajmi: (10000,)\n",
            "\n",
            "X-parametrlar uchun\n",
            "Train set o'lchovi: (6000, 6) va\n",
            "Test set o'lchovi: (4000, 6)\n",
            "\n",
            "y-Label uchun\n",
            "Train set o'lchovi: (6000,) va\n",
            "Test set o'lchovi: (4000,)\n",
            "\n"
          ]
        }
      ],
      "source": [
        "print(\n",
        "    f\"Umumiy Parametr hajmi: {X.shape}\\n\"\n",
        "    )\n",
        "print(\n",
        "    f\"Umumiy  Label hajmi: {y.shape}\\n\"\n",
        "    )\n",
        "print(\n",
        "    f\"X-parametrlar uchun\\n\"\n",
        "        f\"Train set o'lchovi: {X_train.shape} va\\n\"\n",
        "        f\"Test set o'lchovi: {X_test.shape}\\n\"\n",
        "    )\n",
        "print(\n",
        "    f\"y-Label uchun\\n\"\n",
        "        f\"Train set o'lchovi: {y_train.shape} va\\n\"\n",
        "        f\"Test set o'lchovi: {y_test.shape}\\n\"\n",
        "    )"
      ]
    },
    {
      "cell_type": "markdown",
      "metadata": {
        "id": "hYIhwQe6CWQI"
      },
      "source": [
        "**4-QADAM: MODELLASH**"
      ]
    },
    {
      "cell_type": "markdown",
      "metadata": {
        "id": "8WklmoFNfFxx"
      },
      "source": [
        "Evaulation"
      ]
    },
    {
      "cell_type": "code",
      "execution_count": 75,
      "metadata": {},
      "outputs": [
        {
          "name": "stderr",
          "output_type": "stream",
          "text": [
            "c:\\Program Files\\Python313\\Lib\\site-packages\\sklearn\\linear_model\\_logistic.py:465: ConvergenceWarning: lbfgs failed to converge (status=1):\n",
            "STOP: TOTAL NO. OF ITERATIONS REACHED LIMIT.\n",
            "\n",
            "Increase the number of iterations (max_iter) or scale the data as shown in:\n",
            "    https://scikit-learn.org/stable/modules/preprocessing.html\n",
            "Please also refer to the documentation for alternative solver options:\n",
            "    https://scikit-learn.org/stable/modules/linear_model.html#logistic-regression\n",
            "  n_iter_i = _check_optimize_result(\n"
          ]
        },
        {
          "data": {
            "text/html": [
              "<style>#sk-container-id-2 {\n",
              "  /* Definition of color scheme common for light and dark mode */\n",
              "  --sklearn-color-text: #000;\n",
              "  --sklearn-color-text-muted: #666;\n",
              "  --sklearn-color-line: gray;\n",
              "  /* Definition of color scheme for unfitted estimators */\n",
              "  --sklearn-color-unfitted-level-0: #fff5e6;\n",
              "  --sklearn-color-unfitted-level-1: #f6e4d2;\n",
              "  --sklearn-color-unfitted-level-2: #ffe0b3;\n",
              "  --sklearn-color-unfitted-level-3: chocolate;\n",
              "  /* Definition of color scheme for fitted estimators */\n",
              "  --sklearn-color-fitted-level-0: #f0f8ff;\n",
              "  --sklearn-color-fitted-level-1: #d4ebff;\n",
              "  --sklearn-color-fitted-level-2: #b3dbfd;\n",
              "  --sklearn-color-fitted-level-3: cornflowerblue;\n",
              "\n",
              "  /* Specific color for light theme */\n",
              "  --sklearn-color-text-on-default-background: var(--sg-text-color, var(--theme-code-foreground, var(--jp-content-font-color1, black)));\n",
              "  --sklearn-color-background: var(--sg-background-color, var(--theme-background, var(--jp-layout-color0, white)));\n",
              "  --sklearn-color-border-box: var(--sg-text-color, var(--theme-code-foreground, var(--jp-content-font-color1, black)));\n",
              "  --sklearn-color-icon: #696969;\n",
              "\n",
              "  @media (prefers-color-scheme: dark) {\n",
              "    /* Redefinition of color scheme for dark theme */\n",
              "    --sklearn-color-text-on-default-background: var(--sg-text-color, var(--theme-code-foreground, var(--jp-content-font-color1, white)));\n",
              "    --sklearn-color-background: var(--sg-background-color, var(--theme-background, var(--jp-layout-color0, #111)));\n",
              "    --sklearn-color-border-box: var(--sg-text-color, var(--theme-code-foreground, var(--jp-content-font-color1, white)));\n",
              "    --sklearn-color-icon: #878787;\n",
              "  }\n",
              "}\n",
              "\n",
              "#sk-container-id-2 {\n",
              "  color: var(--sklearn-color-text);\n",
              "}\n",
              "\n",
              "#sk-container-id-2 pre {\n",
              "  padding: 0;\n",
              "}\n",
              "\n",
              "#sk-container-id-2 input.sk-hidden--visually {\n",
              "  border: 0;\n",
              "  clip: rect(1px 1px 1px 1px);\n",
              "  clip: rect(1px, 1px, 1px, 1px);\n",
              "  height: 1px;\n",
              "  margin: -1px;\n",
              "  overflow: hidden;\n",
              "  padding: 0;\n",
              "  position: absolute;\n",
              "  width: 1px;\n",
              "}\n",
              "\n",
              "#sk-container-id-2 div.sk-dashed-wrapped {\n",
              "  border: 1px dashed var(--sklearn-color-line);\n",
              "  margin: 0 0.4em 0.5em 0.4em;\n",
              "  box-sizing: border-box;\n",
              "  padding-bottom: 0.4em;\n",
              "  background-color: var(--sklearn-color-background);\n",
              "}\n",
              "\n",
              "#sk-container-id-2 div.sk-container {\n",
              "  /* jupyter's `normalize.less` sets `[hidden] { display: none; }`\n",
              "     but bootstrap.min.css set `[hidden] { display: none !important; }`\n",
              "     so we also need the `!important` here to be able to override the\n",
              "     default hidden behavior on the sphinx rendered scikit-learn.org.\n",
              "     See: https://github.com/scikit-learn/scikit-learn/issues/21755 */\n",
              "  display: inline-block !important;\n",
              "  position: relative;\n",
              "}\n",
              "\n",
              "#sk-container-id-2 div.sk-text-repr-fallback {\n",
              "  display: none;\n",
              "}\n",
              "\n",
              "div.sk-parallel-item,\n",
              "div.sk-serial,\n",
              "div.sk-item {\n",
              "  /* draw centered vertical line to link estimators */\n",
              "  background-image: linear-gradient(var(--sklearn-color-text-on-default-background), var(--sklearn-color-text-on-default-background));\n",
              "  background-size: 2px 100%;\n",
              "  background-repeat: no-repeat;\n",
              "  background-position: center center;\n",
              "}\n",
              "\n",
              "/* Parallel-specific style estimator block */\n",
              "\n",
              "#sk-container-id-2 div.sk-parallel-item::after {\n",
              "  content: \"\";\n",
              "  width: 100%;\n",
              "  border-bottom: 2px solid var(--sklearn-color-text-on-default-background);\n",
              "  flex-grow: 1;\n",
              "}\n",
              "\n",
              "#sk-container-id-2 div.sk-parallel {\n",
              "  display: flex;\n",
              "  align-items: stretch;\n",
              "  justify-content: center;\n",
              "  background-color: var(--sklearn-color-background);\n",
              "  position: relative;\n",
              "}\n",
              "\n",
              "#sk-container-id-2 div.sk-parallel-item {\n",
              "  display: flex;\n",
              "  flex-direction: column;\n",
              "}\n",
              "\n",
              "#sk-container-id-2 div.sk-parallel-item:first-child::after {\n",
              "  align-self: flex-end;\n",
              "  width: 50%;\n",
              "}\n",
              "\n",
              "#sk-container-id-2 div.sk-parallel-item:last-child::after {\n",
              "  align-self: flex-start;\n",
              "  width: 50%;\n",
              "}\n",
              "\n",
              "#sk-container-id-2 div.sk-parallel-item:only-child::after {\n",
              "  width: 0;\n",
              "}\n",
              "\n",
              "/* Serial-specific style estimator block */\n",
              "\n",
              "#sk-container-id-2 div.sk-serial {\n",
              "  display: flex;\n",
              "  flex-direction: column;\n",
              "  align-items: center;\n",
              "  background-color: var(--sklearn-color-background);\n",
              "  padding-right: 1em;\n",
              "  padding-left: 1em;\n",
              "}\n",
              "\n",
              "\n",
              "/* Toggleable style: style used for estimator/Pipeline/ColumnTransformer box that is\n",
              "clickable and can be expanded/collapsed.\n",
              "- Pipeline and ColumnTransformer use this feature and define the default style\n",
              "- Estimators will overwrite some part of the style using the `sk-estimator` class\n",
              "*/\n",
              "\n",
              "/* Pipeline and ColumnTransformer style (default) */\n",
              "\n",
              "#sk-container-id-2 div.sk-toggleable {\n",
              "  /* Default theme specific background. It is overwritten whether we have a\n",
              "  specific estimator or a Pipeline/ColumnTransformer */\n",
              "  background-color: var(--sklearn-color-background);\n",
              "}\n",
              "\n",
              "/* Toggleable label */\n",
              "#sk-container-id-2 label.sk-toggleable__label {\n",
              "  cursor: pointer;\n",
              "  display: flex;\n",
              "  width: 100%;\n",
              "  margin-bottom: 0;\n",
              "  padding: 0.5em;\n",
              "  box-sizing: border-box;\n",
              "  text-align: center;\n",
              "  align-items: start;\n",
              "  justify-content: space-between;\n",
              "  gap: 0.5em;\n",
              "}\n",
              "\n",
              "#sk-container-id-2 label.sk-toggleable__label .caption {\n",
              "  font-size: 0.6rem;\n",
              "  font-weight: lighter;\n",
              "  color: var(--sklearn-color-text-muted);\n",
              "}\n",
              "\n",
              "#sk-container-id-2 label.sk-toggleable__label-arrow:before {\n",
              "  /* Arrow on the left of the label */\n",
              "  content: \"▸\";\n",
              "  float: left;\n",
              "  margin-right: 0.25em;\n",
              "  color: var(--sklearn-color-icon);\n",
              "}\n",
              "\n",
              "#sk-container-id-2 label.sk-toggleable__label-arrow:hover:before {\n",
              "  color: var(--sklearn-color-text);\n",
              "}\n",
              "\n",
              "/* Toggleable content - dropdown */\n",
              "\n",
              "#sk-container-id-2 div.sk-toggleable__content {\n",
              "  max-height: 0;\n",
              "  max-width: 0;\n",
              "  overflow: hidden;\n",
              "  text-align: left;\n",
              "  /* unfitted */\n",
              "  background-color: var(--sklearn-color-unfitted-level-0);\n",
              "}\n",
              "\n",
              "#sk-container-id-2 div.sk-toggleable__content.fitted {\n",
              "  /* fitted */\n",
              "  background-color: var(--sklearn-color-fitted-level-0);\n",
              "}\n",
              "\n",
              "#sk-container-id-2 div.sk-toggleable__content pre {\n",
              "  margin: 0.2em;\n",
              "  border-radius: 0.25em;\n",
              "  color: var(--sklearn-color-text);\n",
              "  /* unfitted */\n",
              "  background-color: var(--sklearn-color-unfitted-level-0);\n",
              "}\n",
              "\n",
              "#sk-container-id-2 div.sk-toggleable__content.fitted pre {\n",
              "  /* unfitted */\n",
              "  background-color: var(--sklearn-color-fitted-level-0);\n",
              "}\n",
              "\n",
              "#sk-container-id-2 input.sk-toggleable__control:checked~div.sk-toggleable__content {\n",
              "  /* Expand drop-down */\n",
              "  max-height: 200px;\n",
              "  max-width: 100%;\n",
              "  overflow: auto;\n",
              "}\n",
              "\n",
              "#sk-container-id-2 input.sk-toggleable__control:checked~label.sk-toggleable__label-arrow:before {\n",
              "  content: \"▾\";\n",
              "}\n",
              "\n",
              "/* Pipeline/ColumnTransformer-specific style */\n",
              "\n",
              "#sk-container-id-2 div.sk-label input.sk-toggleable__control:checked~label.sk-toggleable__label {\n",
              "  color: var(--sklearn-color-text);\n",
              "  background-color: var(--sklearn-color-unfitted-level-2);\n",
              "}\n",
              "\n",
              "#sk-container-id-2 div.sk-label.fitted input.sk-toggleable__control:checked~label.sk-toggleable__label {\n",
              "  background-color: var(--sklearn-color-fitted-level-2);\n",
              "}\n",
              "\n",
              "/* Estimator-specific style */\n",
              "\n",
              "/* Colorize estimator box */\n",
              "#sk-container-id-2 div.sk-estimator input.sk-toggleable__control:checked~label.sk-toggleable__label {\n",
              "  /* unfitted */\n",
              "  background-color: var(--sklearn-color-unfitted-level-2);\n",
              "}\n",
              "\n",
              "#sk-container-id-2 div.sk-estimator.fitted input.sk-toggleable__control:checked~label.sk-toggleable__label {\n",
              "  /* fitted */\n",
              "  background-color: var(--sklearn-color-fitted-level-2);\n",
              "}\n",
              "\n",
              "#sk-container-id-2 div.sk-label label.sk-toggleable__label,\n",
              "#sk-container-id-2 div.sk-label label {\n",
              "  /* The background is the default theme color */\n",
              "  color: var(--sklearn-color-text-on-default-background);\n",
              "}\n",
              "\n",
              "/* On hover, darken the color of the background */\n",
              "#sk-container-id-2 div.sk-label:hover label.sk-toggleable__label {\n",
              "  color: var(--sklearn-color-text);\n",
              "  background-color: var(--sklearn-color-unfitted-level-2);\n",
              "}\n",
              "\n",
              "/* Label box, darken color on hover, fitted */\n",
              "#sk-container-id-2 div.sk-label.fitted:hover label.sk-toggleable__label.fitted {\n",
              "  color: var(--sklearn-color-text);\n",
              "  background-color: var(--sklearn-color-fitted-level-2);\n",
              "}\n",
              "\n",
              "/* Estimator label */\n",
              "\n",
              "#sk-container-id-2 div.sk-label label {\n",
              "  font-family: monospace;\n",
              "  font-weight: bold;\n",
              "  display: inline-block;\n",
              "  line-height: 1.2em;\n",
              "}\n",
              "\n",
              "#sk-container-id-2 div.sk-label-container {\n",
              "  text-align: center;\n",
              "}\n",
              "\n",
              "/* Estimator-specific */\n",
              "#sk-container-id-2 div.sk-estimator {\n",
              "  font-family: monospace;\n",
              "  border: 1px dotted var(--sklearn-color-border-box);\n",
              "  border-radius: 0.25em;\n",
              "  box-sizing: border-box;\n",
              "  margin-bottom: 0.5em;\n",
              "  /* unfitted */\n",
              "  background-color: var(--sklearn-color-unfitted-level-0);\n",
              "}\n",
              "\n",
              "#sk-container-id-2 div.sk-estimator.fitted {\n",
              "  /* fitted */\n",
              "  background-color: var(--sklearn-color-fitted-level-0);\n",
              "}\n",
              "\n",
              "/* on hover */\n",
              "#sk-container-id-2 div.sk-estimator:hover {\n",
              "  /* unfitted */\n",
              "  background-color: var(--sklearn-color-unfitted-level-2);\n",
              "}\n",
              "\n",
              "#sk-container-id-2 div.sk-estimator.fitted:hover {\n",
              "  /* fitted */\n",
              "  background-color: var(--sklearn-color-fitted-level-2);\n",
              "}\n",
              "\n",
              "/* Specification for estimator info (e.g. \"i\" and \"?\") */\n",
              "\n",
              "/* Common style for \"i\" and \"?\" */\n",
              "\n",
              ".sk-estimator-doc-link,\n",
              "a:link.sk-estimator-doc-link,\n",
              "a:visited.sk-estimator-doc-link {\n",
              "  float: right;\n",
              "  font-size: smaller;\n",
              "  line-height: 1em;\n",
              "  font-family: monospace;\n",
              "  background-color: var(--sklearn-color-background);\n",
              "  border-radius: 1em;\n",
              "  height: 1em;\n",
              "  width: 1em;\n",
              "  text-decoration: none !important;\n",
              "  margin-left: 0.5em;\n",
              "  text-align: center;\n",
              "  /* unfitted */\n",
              "  border: var(--sklearn-color-unfitted-level-1) 1pt solid;\n",
              "  color: var(--sklearn-color-unfitted-level-1);\n",
              "}\n",
              "\n",
              ".sk-estimator-doc-link.fitted,\n",
              "a:link.sk-estimator-doc-link.fitted,\n",
              "a:visited.sk-estimator-doc-link.fitted {\n",
              "  /* fitted */\n",
              "  border: var(--sklearn-color-fitted-level-1) 1pt solid;\n",
              "  color: var(--sklearn-color-fitted-level-1);\n",
              "}\n",
              "\n",
              "/* On hover */\n",
              "div.sk-estimator:hover .sk-estimator-doc-link:hover,\n",
              ".sk-estimator-doc-link:hover,\n",
              "div.sk-label-container:hover .sk-estimator-doc-link:hover,\n",
              ".sk-estimator-doc-link:hover {\n",
              "  /* unfitted */\n",
              "  background-color: var(--sklearn-color-unfitted-level-3);\n",
              "  color: var(--sklearn-color-background);\n",
              "  text-decoration: none;\n",
              "}\n",
              "\n",
              "div.sk-estimator.fitted:hover .sk-estimator-doc-link.fitted:hover,\n",
              ".sk-estimator-doc-link.fitted:hover,\n",
              "div.sk-label-container:hover .sk-estimator-doc-link.fitted:hover,\n",
              ".sk-estimator-doc-link.fitted:hover {\n",
              "  /* fitted */\n",
              "  background-color: var(--sklearn-color-fitted-level-3);\n",
              "  color: var(--sklearn-color-background);\n",
              "  text-decoration: none;\n",
              "}\n",
              "\n",
              "/* Span, style for the box shown on hovering the info icon */\n",
              ".sk-estimator-doc-link span {\n",
              "  display: none;\n",
              "  z-index: 9999;\n",
              "  position: relative;\n",
              "  font-weight: normal;\n",
              "  right: .2ex;\n",
              "  padding: .5ex;\n",
              "  margin: .5ex;\n",
              "  width: min-content;\n",
              "  min-width: 20ex;\n",
              "  max-width: 50ex;\n",
              "  color: var(--sklearn-color-text);\n",
              "  box-shadow: 2pt 2pt 4pt #999;\n",
              "  /* unfitted */\n",
              "  background: var(--sklearn-color-unfitted-level-0);\n",
              "  border: .5pt solid var(--sklearn-color-unfitted-level-3);\n",
              "}\n",
              "\n",
              ".sk-estimator-doc-link.fitted span {\n",
              "  /* fitted */\n",
              "  background: var(--sklearn-color-fitted-level-0);\n",
              "  border: var(--sklearn-color-fitted-level-3);\n",
              "}\n",
              "\n",
              ".sk-estimator-doc-link:hover span {\n",
              "  display: block;\n",
              "}\n",
              "\n",
              "/* \"?\"-specific style due to the `<a>` HTML tag */\n",
              "\n",
              "#sk-container-id-2 a.estimator_doc_link {\n",
              "  float: right;\n",
              "  font-size: 1rem;\n",
              "  line-height: 1em;\n",
              "  font-family: monospace;\n",
              "  background-color: var(--sklearn-color-background);\n",
              "  border-radius: 1rem;\n",
              "  height: 1rem;\n",
              "  width: 1rem;\n",
              "  text-decoration: none;\n",
              "  /* unfitted */\n",
              "  color: var(--sklearn-color-unfitted-level-1);\n",
              "  border: var(--sklearn-color-unfitted-level-1) 1pt solid;\n",
              "}\n",
              "\n",
              "#sk-container-id-2 a.estimator_doc_link.fitted {\n",
              "  /* fitted */\n",
              "  border: var(--sklearn-color-fitted-level-1) 1pt solid;\n",
              "  color: var(--sklearn-color-fitted-level-1);\n",
              "}\n",
              "\n",
              "/* On hover */\n",
              "#sk-container-id-2 a.estimator_doc_link:hover {\n",
              "  /* unfitted */\n",
              "  background-color: var(--sklearn-color-unfitted-level-3);\n",
              "  color: var(--sklearn-color-background);\n",
              "  text-decoration: none;\n",
              "}\n",
              "\n",
              "#sk-container-id-2 a.estimator_doc_link.fitted:hover {\n",
              "  /* fitted */\n",
              "  background-color: var(--sklearn-color-fitted-level-3);\n",
              "}\n",
              "</style><div id=\"sk-container-id-2\" class=\"sk-top-container\"><div class=\"sk-text-repr-fallback\"><pre>LogisticRegression()</pre><b>In a Jupyter environment, please rerun this cell to show the HTML representation or trust the notebook. <br />On GitHub, the HTML representation is unable to render, please try loading this page with nbviewer.org.</b></div><div class=\"sk-container\" hidden><div class=\"sk-item\"><div class=\"sk-estimator fitted sk-toggleable\"><input class=\"sk-toggleable__control sk-hidden--visually\" id=\"sk-estimator-id-2\" type=\"checkbox\" checked><label for=\"sk-estimator-id-2\" class=\"sk-toggleable__label fitted sk-toggleable__label-arrow\"><div><div>LogisticRegression</div></div><div><a class=\"sk-estimator-doc-link fitted\" rel=\"noreferrer\" target=\"_blank\" href=\"https://scikit-learn.org/1.6/modules/generated/sklearn.linear_model.LogisticRegression.html\">?<span>Documentation for LogisticRegression</span></a><span class=\"sk-estimator-doc-link fitted\">i<span>Fitted</span></span></div></label><div class=\"sk-toggleable__content fitted\"><pre>LogisticRegression()</pre></div> </div></div></div></div>"
            ],
            "text/plain": [
              "LogisticRegression()"
            ]
          },
          "execution_count": 75,
          "metadata": {},
          "output_type": "execute_result"
        }
      ],
      "source": [
        "from sklearn.linear_model import LogisticRegression\n",
        "\n",
        "logistic_reg = LogisticRegression()\n",
        "\n",
        "logistic_reg.fit(X_train, y_train)\n",
        "\n",
        "# Logistik Regression Classification Model"
      ]
    },
    {
      "cell_type": "code",
      "execution_count": 76,
      "metadata": {},
      "outputs": [
        {
          "data": {
            "text/plain": [
              "(4000, 6)"
            ]
          },
          "execution_count": 76,
          "metadata": {},
          "output_type": "execute_result"
        }
      ],
      "source": [
        "X_test.shape"
      ]
    },
    {
      "cell_type": "code",
      "execution_count": 77,
      "metadata": {},
      "outputs": [],
      "source": [
        "y_prediction = logistic_reg.predict(X_test)\n",
        "\n",
        "# X_test nisbatan bashorat qilish"
      ]
    },
    {
      "cell_type": "code",
      "execution_count": 78,
      "metadata": {
        "colab": {
          "base_uri": "https://localhost:8080/",
          "height": 272
        },
        "id": "_dkIx56mpCrl",
        "outputId": "ddc2c38c-0b68-42e9-aeb6-e60b3cc7456d"
      },
      "outputs": [
        {
          "data": {
            "text/plain": [
              "5669    0\n",
              "8800    0\n",
              "3205    0\n",
              "8731    1\n",
              "6412    1\n",
              "Name: satisfaction, dtype: int64"
            ]
          },
          "execution_count": 78,
          "metadata": {},
          "output_type": "execute_result"
        }
      ],
      "source": [
        "y_test.head()"
      ]
    },
    {
      "cell_type": "code",
      "execution_count": 79,
      "metadata": {
        "colab": {
          "base_uri": "https://localhost:8080/"
        },
        "id": "Scc8Sof2rVW0",
        "outputId": "f0f9ba10-a2f4-4df0-f27b-503cbce2f9da"
      },
      "outputs": [
        {
          "name": "stdout",
          "output_type": "stream",
          "text": [
            "(4000,) (4000,)\n"
          ]
        }
      ],
      "source": [
        "print(y_test.shape, y_prediction.shape)"
      ]
    },
    {
      "cell_type": "markdown",
      "metadata": {
        "id": "jt7nMLkmCdcn"
      },
      "source": [
        "**5-QADAM: MODELNI BAHOLASH**"
      ]
    },
    {
      "cell_type": "code",
      "execution_count": 80,
      "metadata": {
        "colab": {
          "base_uri": "https://localhost:8080/"
        },
        "id": "04LQ93TGpVvk",
        "outputId": "44e3fcf9-ad5b-4bbb-b767-66cab58b0ba1"
      },
      "outputs": [
        {
          "name": "stdout",
          "output_type": "stream",
          "text": [
            "Accuracy score of the training data: 82.3% aniqlikda bashorat qilyapti\n"
          ]
        }
      ],
      "source": [
        "from sklearn.metrics import accuracy_score\n",
        "\n",
        "test_data_accuracy = accuracy_score(y_test, y_prediction)\n",
        "\n",
        "print(f\"Accuracy score of the training data: {test_data_accuracy * 100}% aniqlikda bashorat qilyapti\")\n",
        "\n",
        "# modelimizni accuracy score orqali tekshirish"
      ]
    },
    {
      "cell_type": "code",
      "execution_count": 81,
      "metadata": {
        "colab": {
          "base_uri": "https://localhost:8080/",
          "height": 604
        },
        "id": "MNRnoW7-tH9Z",
        "outputId": "39328176-4e96-4eb2-bba1-b07a7f0e5c7c"
      },
      "outputs": [
        {
          "name": "stdout",
          "output_type": "stream",
          "text": [
            "              precision    recall  f1-score   support\n",
            "\n",
            "           0       0.82      0.83      0.82      2006\n",
            "           1       0.83      0.81      0.82      1994\n",
            "\n",
            "    accuracy                           0.82      4000\n",
            "   macro avg       0.82      0.82      0.82      4000\n",
            "weighted avg       0.82      0.82      0.82      4000\n",
            "\n",
            "Model aniqligi: 0.823\n"
          ]
        },
        {
          "data": {
            "image/png": "[encoded data removed]",
            "text/plain": [
              "<Figure size 640x480 with 2 Axes>"
            ]
          },
          "metadata": {},
          "output_type": "display_data"
        }
      ],
      "source": [
        "from sklearn import metrics\n",
        "\n",
        "print(metrics.classification_report(y_test, y_prediction))\n",
        "print(\"Model aniqligi:\", metrics.accuracy_score(y_test, y_prediction))\n",
        "\n",
        "conf_mat = metrics.confusion_matrix(y_test, y_prediction)\n",
        "sns.heatmap(conf_mat, annot=True, fmt=\"g\")\n",
        "plt.show()"
      ]
    },
    {
      "cell_type": "markdown",
      "metadata": {},
      "source": [
        "# **Submission**"
      ]
    },
    {
      "cell_type": "code",
      "execution_count": 82,
      "metadata": {},
      "outputs": [],
      "source": [
        "ids = df_test['id'].values\n",
        "X_test = df_test.drop(\"id\", axis=1).values"
      ]
    },
    {
      "cell_type": "code",
      "execution_count": 84,
      "metadata": {},
      "outputs": [],
      "source": [
        "submission = pd.DataFrame({\n",
        "    'id': ids,\n",
        "    'satisfaction' : y_prediction.reshape(-1)\n",
        "})"
      ]
    },
    {
      "cell_type": "code",
      "execution_count": 85,
      "metadata": {},
      "outputs": [],
      "source": [
        "submission.to_csv(\"submission_ML_flight_satisfaction.csv\",index=False)"
      ]
    }
  ],
  "metadata": {
    "accelerator": "GPU",
    "colab": {
      "gpuType": "T4",
      "provenance": []
    },
    "kernelspec": {
      "display_name": "Python 3",
      "name": "python3"
    },
    "language_info": {
      "codemirror_mode": {
        "name": "ipython",
        "version": 3
      },
      "file_extension": ".py",
      "mimetype": "text/x-python",
      "name": "python",
      "nbconvert_exporter": "python",
      "pygments_lexer": "ipython3",
      "version": "3.13.1"
    }
  },
  "nbformat": 4,
  "nbformat_minor": 0
}
